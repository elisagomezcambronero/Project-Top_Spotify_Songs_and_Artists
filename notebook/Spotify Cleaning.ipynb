{
 "cells": [
  {
   "cell_type": "code",
   "execution_count": 16,
   "id": "40f60ef1",
   "metadata": {},
   "outputs": [],
   "source": [
    "import pandas as pd\n",
    "import numpy as np"
   ]
  },
  {
   "cell_type": "code",
   "execution_count": 2,
   "id": "acb89843",
   "metadata": {},
   "outputs": [],
   "source": [
    "import sys"
   ]
  },
  {
   "cell_type": "code",
   "execution_count": 4,
   "id": "bed3598a",
   "metadata": {},
   "outputs": [],
   "source": [
    "sys.path.append(\"../\")"
   ]
  },
  {
   "cell_type": "code",
   "execution_count": 5,
   "id": "f8cf7686",
   "metadata": {},
   "outputs": [],
   "source": [
    "import src.main as sp"
   ]
  },
  {
   "cell_type": "code",
   "execution_count": 2,
   "id": "c853a2d4",
   "metadata": {},
   "outputs": [],
   "source": [
    "pd.options.display.max_columns = None\n",
    "pd.options.display.max_rows = None"
   ]
  },
  {
   "cell_type": "markdown",
   "id": "fca8bd88",
   "metadata": {},
   "source": [
    "# 1- Spotify Top 200 Charts (2020-2021)"
   ]
  },
  {
   "cell_type": "code",
   "execution_count": 3,
   "id": "5fb0fe49",
   "metadata": {},
   "outputs": [],
   "source": [
    "df_spotify = pd.read_csv(\"../data/spotify_dataset.csv\", index_col = 0 )"
   ]
  },
  {
   "cell_type": "code",
   "execution_count": null,
   "id": "083609c5",
   "metadata": {},
   "outputs": [],
   "source": [
    "df_spotify=sp.abrir_csv(\"../data/spotify_dataset.csv\")"
   ]
  },
  {
   "cell_type": "code",
   "execution_count": 4,
   "id": "a74e1b43",
   "metadata": {
    "scrolled": true
   },
   "outputs": [
    {
     "data": {
      "text/html": [
       "<div>\n",
       "<style scoped>\n",
       "    .dataframe tbody tr th:only-of-type {\n",
       "        vertical-align: middle;\n",
       "    }\n",
       "\n",
       "    .dataframe tbody tr th {\n",
       "        vertical-align: top;\n",
       "    }\n",
       "\n",
       "    .dataframe thead th {\n",
       "        text-align: right;\n",
       "    }\n",
       "</style>\n",
       "<table border=\"1\" class=\"dataframe\">\n",
       "  <thead>\n",
       "    <tr style=\"text-align: right;\">\n",
       "      <th></th>\n",
       "      <th>Highest Charting Position</th>\n",
       "      <th>Number of Times Charted</th>\n",
       "      <th>Week of Highest Charting</th>\n",
       "      <th>Song Name</th>\n",
       "      <th>Streams</th>\n",
       "      <th>Artist</th>\n",
       "      <th>Artist Followers</th>\n",
       "      <th>Song ID</th>\n",
       "      <th>Genre</th>\n",
       "      <th>Release Date</th>\n",
       "      <th>Weeks Charted</th>\n",
       "      <th>Popularity</th>\n",
       "      <th>Danceability</th>\n",
       "      <th>Energy</th>\n",
       "      <th>Loudness</th>\n",
       "      <th>Speechiness</th>\n",
       "      <th>Acousticness</th>\n",
       "      <th>Liveness</th>\n",
       "      <th>Tempo</th>\n",
       "      <th>Duration (ms)</th>\n",
       "      <th>Valence</th>\n",
       "      <th>Chord</th>\n",
       "    </tr>\n",
       "    <tr>\n",
       "      <th>Index</th>\n",
       "      <th></th>\n",
       "      <th></th>\n",
       "      <th></th>\n",
       "      <th></th>\n",
       "      <th></th>\n",
       "      <th></th>\n",
       "      <th></th>\n",
       "      <th></th>\n",
       "      <th></th>\n",
       "      <th></th>\n",
       "      <th></th>\n",
       "      <th></th>\n",
       "      <th></th>\n",
       "      <th></th>\n",
       "      <th></th>\n",
       "      <th></th>\n",
       "      <th></th>\n",
       "      <th></th>\n",
       "      <th></th>\n",
       "      <th></th>\n",
       "      <th></th>\n",
       "      <th></th>\n",
       "    </tr>\n",
       "  </thead>\n",
       "  <tbody>\n",
       "    <tr>\n",
       "      <th>1</th>\n",
       "      <td>1</td>\n",
       "      <td>8</td>\n",
       "      <td>2021-07-23--2021-07-30</td>\n",
       "      <td>Beggin'</td>\n",
       "      <td>48,633,449</td>\n",
       "      <td>Måneskin</td>\n",
       "      <td>3377762</td>\n",
       "      <td>3Wrjm47oTz2sjIgck11l5e</td>\n",
       "      <td>['indie rock italiano', 'italian pop']</td>\n",
       "      <td>2017-12-08</td>\n",
       "      <td>2021-07-23--2021-07-30\\n2021-07-16--2021-07-23...</td>\n",
       "      <td>100</td>\n",
       "      <td>0.714</td>\n",
       "      <td>0.8</td>\n",
       "      <td>-4.808</td>\n",
       "      <td>0.0504</td>\n",
       "      <td>0.127</td>\n",
       "      <td>0.359</td>\n",
       "      <td>134.002</td>\n",
       "      <td>211560</td>\n",
       "      <td>0.589</td>\n",
       "      <td>B</td>\n",
       "    </tr>\n",
       "  </tbody>\n",
       "</table>\n",
       "</div>"
      ],
      "text/plain": [
       "       Highest Charting Position  Number of Times Charted  \\\n",
       "Index                                                       \n",
       "1                              1                        8   \n",
       "\n",
       "      Week of Highest Charting Song Name     Streams    Artist  \\\n",
       "Index                                                            \n",
       "1       2021-07-23--2021-07-30   Beggin'  48,633,449  Måneskin   \n",
       "\n",
       "      Artist Followers                 Song ID  \\\n",
       "Index                                            \n",
       "1              3377762  3Wrjm47oTz2sjIgck11l5e   \n",
       "\n",
       "                                        Genre Release Date  \\\n",
       "Index                                                        \n",
       "1      ['indie rock italiano', 'italian pop']   2017-12-08   \n",
       "\n",
       "                                           Weeks Charted Popularity  \\\n",
       "Index                                                                 \n",
       "1      2021-07-23--2021-07-30\\n2021-07-16--2021-07-23...        100   \n",
       "\n",
       "      Danceability Energy Loudness Speechiness Acousticness Liveness    Tempo  \\\n",
       "Index                                                                           \n",
       "1            0.714    0.8   -4.808      0.0504        0.127    0.359  134.002   \n",
       "\n",
       "      Duration (ms) Valence Chord  \n",
       "Index                              \n",
       "1            211560   0.589     B  "
      ]
     },
     "execution_count": 4,
     "metadata": {},
     "output_type": "execute_result"
    }
   ],
   "source": [
    "df_spotify.head(1)"
   ]
  },
  {
   "cell_type": "code",
   "execution_count": 5,
   "id": "62ec3f27",
   "metadata": {},
   "outputs": [
    {
     "data": {
      "text/plain": [
       "Index(['Highest Charting Position', 'Number of Times Charted',\n",
       "       'Week of Highest Charting', 'Song Name', 'Streams', 'Artist',\n",
       "       'Artist Followers', 'Song ID', 'Genre', 'Release Date', 'Weeks Charted',\n",
       "       'Popularity', 'Danceability', 'Energy', 'Loudness', 'Speechiness',\n",
       "       'Acousticness', 'Liveness', 'Tempo', 'Duration (ms)', 'Valence',\n",
       "       'Chord'],\n",
       "      dtype='object')"
      ]
     },
     "execution_count": 5,
     "metadata": {},
     "output_type": "execute_result"
    }
   ],
   "source": [
    "df_spotify.columns"
   ]
  },
  {
   "cell_type": "code",
   "execution_count": 6,
   "id": "3c258c81",
   "metadata": {},
   "outputs": [
    {
     "data": {
      "text/plain": [
       "(1556, 22)"
      ]
     },
     "execution_count": 6,
     "metadata": {},
     "output_type": "execute_result"
    }
   ],
   "source": [
    "df_spotify.shape"
   ]
  },
  {
   "cell_type": "markdown",
   "id": "db2a3bff",
   "metadata": {},
   "source": [
    "## 1.2 Merge with \"Spotify Artist Metadata Top 10k\" dataset to add Age, gender and location of artists"
   ]
  },
  {
   "cell_type": "code",
   "execution_count": 7,
   "id": "c3b2b345",
   "metadata": {},
   "outputs": [],
   "source": [
    "df_a = pd.read_csv(\"../data/spotify_artists.csv\", index_col = 0 )"
   ]
  },
  {
   "cell_type": "code",
   "execution_count": null,
   "id": "16728a7d",
   "metadata": {},
   "outputs": [],
   "source": [
    "df_a=sp.abrir_csv(\"../data/spotify_artists.csv\")"
   ]
  },
  {
   "cell_type": "code",
   "execution_count": 8,
   "id": "6d85c261",
   "metadata": {},
   "outputs": [
    {
     "data": {
      "text/html": [
       "<div>\n",
       "<style scoped>\n",
       "    .dataframe tbody tr th:only-of-type {\n",
       "        vertical-align: middle;\n",
       "    }\n",
       "\n",
       "    .dataframe tbody tr th {\n",
       "        vertical-align: top;\n",
       "    }\n",
       "\n",
       "    .dataframe thead th {\n",
       "        text-align: right;\n",
       "    }\n",
       "</style>\n",
       "<table border=\"1\" class=\"dataframe\">\n",
       "  <thead>\n",
       "    <tr style=\"text-align: right;\">\n",
       "      <th></th>\n",
       "      <th>index</th>\n",
       "      <th>artist</th>\n",
       "      <th>gender</th>\n",
       "      <th>age</th>\n",
       "      <th>type</th>\n",
       "      <th>country</th>\n",
       "      <th>city_1</th>\n",
       "      <th>district_1</th>\n",
       "      <th>city_2</th>\n",
       "      <th>district_2</th>\n",
       "      <th>city_3</th>\n",
       "      <th>district_3</th>\n",
       "    </tr>\n",
       "  </thead>\n",
       "  <tbody>\n",
       "    <tr>\n",
       "      <th>0</th>\n",
       "      <td>0</td>\n",
       "      <td>Drake</td>\n",
       "      <td>male</td>\n",
       "      <td>33</td>\n",
       "      <td>person</td>\n",
       "      <td>CA</td>\n",
       "      <td>NaN</td>\n",
       "      <td>NaN</td>\n",
       "      <td>Toronto</td>\n",
       "      <td>NaN</td>\n",
       "      <td>NaN</td>\n",
       "      <td>NaN</td>\n",
       "    </tr>\n",
       "    <tr>\n",
       "      <th>1</th>\n",
       "      <td>1</td>\n",
       "      <td>Post Malone</td>\n",
       "      <td>male</td>\n",
       "      <td>25</td>\n",
       "      <td>person</td>\n",
       "      <td>US</td>\n",
       "      <td>NaN</td>\n",
       "      <td>NaN</td>\n",
       "      <td>Syracuse</td>\n",
       "      <td>NaN</td>\n",
       "      <td>NaN</td>\n",
       "      <td>NaN</td>\n",
       "    </tr>\n",
       "    <tr>\n",
       "      <th>2</th>\n",
       "      <td>2</td>\n",
       "      <td>Ed Sheeran</td>\n",
       "      <td>male</td>\n",
       "      <td>29</td>\n",
       "      <td>person</td>\n",
       "      <td>GB</td>\n",
       "      <td>NaN</td>\n",
       "      <td>NaN</td>\n",
       "      <td>Halifax</td>\n",
       "      <td>NaN</td>\n",
       "      <td>NaN</td>\n",
       "      <td>NaN</td>\n",
       "    </tr>\n",
       "    <tr>\n",
       "      <th>3</th>\n",
       "      <td>3</td>\n",
       "      <td>J Balvin</td>\n",
       "      <td>male</td>\n",
       "      <td>35</td>\n",
       "      <td>person</td>\n",
       "      <td>CO</td>\n",
       "      <td>NaN</td>\n",
       "      <td>NaN</td>\n",
       "      <td>Medellín</td>\n",
       "      <td>NaN</td>\n",
       "      <td>NaN</td>\n",
       "      <td>NaN</td>\n",
       "    </tr>\n",
       "    <tr>\n",
       "      <th>4</th>\n",
       "      <td>4</td>\n",
       "      <td>Bad Bunny</td>\n",
       "      <td>male</td>\n",
       "      <td>26</td>\n",
       "      <td>person</td>\n",
       "      <td>PR</td>\n",
       "      <td>NaN</td>\n",
       "      <td>NaN</td>\n",
       "      <td>San Juan</td>\n",
       "      <td>NaN</td>\n",
       "      <td>NaN</td>\n",
       "      <td>NaN</td>\n",
       "    </tr>\n",
       "  </tbody>\n",
       "</table>\n",
       "</div>"
      ],
      "text/plain": [
       "   index       artist gender  age    type country city_1 district_1    city_2  \\\n",
       "0      0        Drake   male   33  person      CA    NaN        NaN   Toronto   \n",
       "1      1  Post Malone   male   25  person      US    NaN        NaN  Syracuse   \n",
       "2      2   Ed Sheeran   male   29  person      GB    NaN        NaN   Halifax   \n",
       "3      3     J Balvin   male   35  person      CO    NaN        NaN  Medellín   \n",
       "4      4    Bad Bunny   male   26  person      PR    NaN        NaN  San Juan   \n",
       "\n",
       "  district_2 city_3 district_3  \n",
       "0        NaN    NaN        NaN  \n",
       "1        NaN    NaN        NaN  \n",
       "2        NaN    NaN        NaN  \n",
       "3        NaN    NaN        NaN  \n",
       "4        NaN    NaN        NaN  "
      ]
     },
     "execution_count": 8,
     "metadata": {},
     "output_type": "execute_result"
    }
   ],
   "source": [
    "df_a.head() #voy a coger las columnas que me interesan"
   ]
  },
  {
   "cell_type": "code",
   "execution_count": 9,
   "id": "561efc43",
   "metadata": {},
   "outputs": [
    {
     "data": {
      "text/plain": [
       "1"
      ]
     },
     "execution_count": 9,
     "metadata": {},
     "output_type": "execute_result"
    }
   ],
   "source": [
    "df_a.duplicated().sum()"
   ]
  },
  {
   "cell_type": "code",
   "execution_count": 10,
   "id": "f067ea74",
   "metadata": {},
   "outputs": [],
   "source": [
    "df_a=df_a.drop_duplicates(keep='first')"
   ]
  },
  {
   "cell_type": "code",
   "execution_count": 11,
   "id": "c18f8d7b",
   "metadata": {},
   "outputs": [
    {
     "data": {
      "text/html": [
       "<div>\n",
       "<style scoped>\n",
       "    .dataframe tbody tr th:only-of-type {\n",
       "        vertical-align: middle;\n",
       "    }\n",
       "\n",
       "    .dataframe tbody tr th {\n",
       "        vertical-align: top;\n",
       "    }\n",
       "\n",
       "    .dataframe thead th {\n",
       "        text-align: right;\n",
       "    }\n",
       "</style>\n",
       "<table border=\"1\" class=\"dataframe\">\n",
       "  <thead>\n",
       "    <tr style=\"text-align: right;\">\n",
       "      <th></th>\n",
       "      <th>0</th>\n",
       "    </tr>\n",
       "  </thead>\n",
       "  <tbody>\n",
       "    <tr>\n",
       "      <th>gender</th>\n",
       "      <td>17.521752</td>\n",
       "    </tr>\n",
       "    <tr>\n",
       "      <th>type</th>\n",
       "      <td>17.521752</td>\n",
       "    </tr>\n",
       "    <tr>\n",
       "      <th>country</th>\n",
       "      <td>33.543354</td>\n",
       "    </tr>\n",
       "    <tr>\n",
       "      <th>city_1</th>\n",
       "      <td>93.069307</td>\n",
       "    </tr>\n",
       "    <tr>\n",
       "      <th>district_1</th>\n",
       "      <td>99.879988</td>\n",
       "    </tr>\n",
       "    <tr>\n",
       "      <th>city_2</th>\n",
       "      <td>67.266727</td>\n",
       "    </tr>\n",
       "    <tr>\n",
       "      <th>district_2</th>\n",
       "      <td>98.119812</td>\n",
       "    </tr>\n",
       "    <tr>\n",
       "      <th>city_3</th>\n",
       "      <td>97.929793</td>\n",
       "    </tr>\n",
       "    <tr>\n",
       "      <th>district_3</th>\n",
       "      <td>99.829983</td>\n",
       "    </tr>\n",
       "  </tbody>\n",
       "</table>\n",
       "</div>"
      ],
      "text/plain": [
       "                    0\n",
       "gender      17.521752\n",
       "type        17.521752\n",
       "country     33.543354\n",
       "city_1      93.069307\n",
       "district_1  99.879988\n",
       "city_2      67.266727\n",
       "district_2  98.119812\n",
       "city_3      97.929793\n",
       "district_3  99.829983"
      ]
     },
     "execution_count": 11,
     "metadata": {},
     "output_type": "execute_result"
    }
   ],
   "source": [
    "df_nul=pd.DataFrame((df_a.isnull().sum() * 100) / df_a.shape[0])\n",
    "df_nul[df_nul[0]>0] #above 50% nulls wont interest me"
   ]
  },
  {
   "cell_type": "code",
   "execution_count": 12,
   "id": "2509367c",
   "metadata": {},
   "outputs": [
    {
     "data": {
      "text/plain": [
       "Index(['index', 'artist', 'gender', 'age', 'type', 'country', 'city_1',\n",
       "       'district_1', 'city_2', 'district_2', 'city_3', 'district_3'],\n",
       "      dtype='object')"
      ]
     },
     "execution_count": 12,
     "metadata": {},
     "output_type": "execute_result"
    }
   ],
   "source": [
    "df_a.columns"
   ]
  },
  {
   "cell_type": "code",
   "execution_count": 13,
   "id": "4b097a83",
   "metadata": {},
   "outputs": [],
   "source": [
    "df_a=df_a[['artist', 'gender', 'age', 'type', 'country']]"
   ]
  },
  {
   "cell_type": "markdown",
   "id": "f8afe309",
   "metadata": {},
   "source": [
    "voy a juntar los dos dataframes por el artista(por inner join) y luego veo que hago con los nulls"
   ]
  },
  {
   "cell_type": "code",
   "execution_count": 14,
   "id": "eb2e0f72",
   "metadata": {},
   "outputs": [
    {
     "data": {
      "text/html": [
       "<div>\n",
       "<style scoped>\n",
       "    .dataframe tbody tr th:only-of-type {\n",
       "        vertical-align: middle;\n",
       "    }\n",
       "\n",
       "    .dataframe tbody tr th {\n",
       "        vertical-align: top;\n",
       "    }\n",
       "\n",
       "    .dataframe thead th {\n",
       "        text-align: right;\n",
       "    }\n",
       "</style>\n",
       "<table border=\"1\" class=\"dataframe\">\n",
       "  <thead>\n",
       "    <tr style=\"text-align: right;\">\n",
       "      <th></th>\n",
       "      <th>Highest Charting Position</th>\n",
       "      <th>Number of Times Charted</th>\n",
       "      <th>Week of Highest Charting</th>\n",
       "      <th>Song Name</th>\n",
       "      <th>Streams</th>\n",
       "      <th>Artist</th>\n",
       "      <th>Artist Followers</th>\n",
       "      <th>Song ID</th>\n",
       "      <th>Genre</th>\n",
       "      <th>Release Date</th>\n",
       "      <th>Weeks Charted</th>\n",
       "      <th>Popularity</th>\n",
       "      <th>Danceability</th>\n",
       "      <th>Energy</th>\n",
       "      <th>Loudness</th>\n",
       "      <th>Speechiness</th>\n",
       "      <th>Acousticness</th>\n",
       "      <th>Liveness</th>\n",
       "      <th>Tempo</th>\n",
       "      <th>Duration (ms)</th>\n",
       "      <th>Valence</th>\n",
       "      <th>Chord</th>\n",
       "    </tr>\n",
       "    <tr>\n",
       "      <th>Index</th>\n",
       "      <th></th>\n",
       "      <th></th>\n",
       "      <th></th>\n",
       "      <th></th>\n",
       "      <th></th>\n",
       "      <th></th>\n",
       "      <th></th>\n",
       "      <th></th>\n",
       "      <th></th>\n",
       "      <th></th>\n",
       "      <th></th>\n",
       "      <th></th>\n",
       "      <th></th>\n",
       "      <th></th>\n",
       "      <th></th>\n",
       "      <th></th>\n",
       "      <th></th>\n",
       "      <th></th>\n",
       "      <th></th>\n",
       "      <th></th>\n",
       "      <th></th>\n",
       "      <th></th>\n",
       "    </tr>\n",
       "  </thead>\n",
       "  <tbody>\n",
       "    <tr>\n",
       "      <th>1</th>\n",
       "      <td>1</td>\n",
       "      <td>8</td>\n",
       "      <td>2021-07-23--2021-07-30</td>\n",
       "      <td>Beggin'</td>\n",
       "      <td>48,633,449</td>\n",
       "      <td>Måneskin</td>\n",
       "      <td>3377762</td>\n",
       "      <td>3Wrjm47oTz2sjIgck11l5e</td>\n",
       "      <td>['indie rock italiano', 'italian pop']</td>\n",
       "      <td>2017-12-08</td>\n",
       "      <td>2021-07-23--2021-07-30\\n2021-07-16--2021-07-23...</td>\n",
       "      <td>100</td>\n",
       "      <td>0.714</td>\n",
       "      <td>0.8</td>\n",
       "      <td>-4.808</td>\n",
       "      <td>0.0504</td>\n",
       "      <td>0.127</td>\n",
       "      <td>0.359</td>\n",
       "      <td>134.002</td>\n",
       "      <td>211560</td>\n",
       "      <td>0.589</td>\n",
       "      <td>B</td>\n",
       "    </tr>\n",
       "  </tbody>\n",
       "</table>\n",
       "</div>"
      ],
      "text/plain": [
       "       Highest Charting Position  Number of Times Charted  \\\n",
       "Index                                                       \n",
       "1                              1                        8   \n",
       "\n",
       "      Week of Highest Charting Song Name     Streams    Artist  \\\n",
       "Index                                                            \n",
       "1       2021-07-23--2021-07-30   Beggin'  48,633,449  Måneskin   \n",
       "\n",
       "      Artist Followers                 Song ID  \\\n",
       "Index                                            \n",
       "1              3377762  3Wrjm47oTz2sjIgck11l5e   \n",
       "\n",
       "                                        Genre Release Date  \\\n",
       "Index                                                        \n",
       "1      ['indie rock italiano', 'italian pop']   2017-12-08   \n",
       "\n",
       "                                           Weeks Charted Popularity  \\\n",
       "Index                                                                 \n",
       "1      2021-07-23--2021-07-30\\n2021-07-16--2021-07-23...        100   \n",
       "\n",
       "      Danceability Energy Loudness Speechiness Acousticness Liveness    Tempo  \\\n",
       "Index                                                                           \n",
       "1            0.714    0.8   -4.808      0.0504        0.127    0.359  134.002   \n",
       "\n",
       "      Duration (ms) Valence Chord  \n",
       "Index                              \n",
       "1            211560   0.589     B  "
      ]
     },
     "execution_count": 14,
     "metadata": {},
     "output_type": "execute_result"
    }
   ],
   "source": [
    "df_spotify.head(1)"
   ]
  },
  {
   "cell_type": "code",
   "execution_count": 15,
   "id": "6edcb630",
   "metadata": {},
   "outputs": [
    {
     "data": {
      "text/html": [
       "<div>\n",
       "<style scoped>\n",
       "    .dataframe tbody tr th:only-of-type {\n",
       "        vertical-align: middle;\n",
       "    }\n",
       "\n",
       "    .dataframe tbody tr th {\n",
       "        vertical-align: top;\n",
       "    }\n",
       "\n",
       "    .dataframe thead th {\n",
       "        text-align: right;\n",
       "    }\n",
       "</style>\n",
       "<table border=\"1\" class=\"dataframe\">\n",
       "  <thead>\n",
       "    <tr style=\"text-align: right;\">\n",
       "      <th></th>\n",
       "      <th>artist</th>\n",
       "      <th>gender</th>\n",
       "      <th>age</th>\n",
       "      <th>type</th>\n",
       "      <th>country</th>\n",
       "    </tr>\n",
       "  </thead>\n",
       "  <tbody>\n",
       "    <tr>\n",
       "      <th>0</th>\n",
       "      <td>Drake</td>\n",
       "      <td>male</td>\n",
       "      <td>33</td>\n",
       "      <td>person</td>\n",
       "      <td>CA</td>\n",
       "    </tr>\n",
       "  </tbody>\n",
       "</table>\n",
       "</div>"
      ],
      "text/plain": [
       "  artist gender  age    type country\n",
       "0  Drake   male   33  person      CA"
      ]
     },
     "execution_count": 15,
     "metadata": {},
     "output_type": "execute_result"
    }
   ],
   "source": [
    "df_a.head(1)"
   ]
  },
  {
   "cell_type": "code",
   "execution_count": 16,
   "id": "db84a9f5",
   "metadata": {},
   "outputs": [
    {
     "data": {
      "text/html": [
       "<div>\n",
       "<style scoped>\n",
       "    .dataframe tbody tr th:only-of-type {\n",
       "        vertical-align: middle;\n",
       "    }\n",
       "\n",
       "    .dataframe tbody tr th {\n",
       "        vertical-align: top;\n",
       "    }\n",
       "\n",
       "    .dataframe thead th {\n",
       "        text-align: right;\n",
       "    }\n",
       "</style>\n",
       "<table border=\"1\" class=\"dataframe\">\n",
       "  <thead>\n",
       "    <tr style=\"text-align: right;\">\n",
       "      <th></th>\n",
       "      <th>Highest Charting Position</th>\n",
       "      <th>Number of Times Charted</th>\n",
       "      <th>Week of Highest Charting</th>\n",
       "      <th>Song Name</th>\n",
       "      <th>Streams</th>\n",
       "      <th>Artist</th>\n",
       "      <th>Artist Followers</th>\n",
       "      <th>Song ID</th>\n",
       "      <th>Genre</th>\n",
       "      <th>Release Date</th>\n",
       "      <th>Weeks Charted</th>\n",
       "      <th>Popularity</th>\n",
       "      <th>Danceability</th>\n",
       "      <th>Energy</th>\n",
       "      <th>Loudness</th>\n",
       "      <th>Speechiness</th>\n",
       "      <th>Acousticness</th>\n",
       "      <th>Liveness</th>\n",
       "      <th>Tempo</th>\n",
       "      <th>Duration (ms)</th>\n",
       "      <th>Valence</th>\n",
       "      <th>Chord</th>\n",
       "      <th>artist</th>\n",
       "      <th>gender</th>\n",
       "      <th>age</th>\n",
       "      <th>type</th>\n",
       "      <th>country</th>\n",
       "    </tr>\n",
       "  </thead>\n",
       "  <tbody>\n",
       "    <tr>\n",
       "      <th>0</th>\n",
       "      <td>1</td>\n",
       "      <td>8</td>\n",
       "      <td>2021-07-23--2021-07-30</td>\n",
       "      <td>Beggin'</td>\n",
       "      <td>48,633,449</td>\n",
       "      <td>Måneskin</td>\n",
       "      <td>3377762</td>\n",
       "      <td>3Wrjm47oTz2sjIgck11l5e</td>\n",
       "      <td>['indie rock italiano', 'italian pop']</td>\n",
       "      <td>2017-12-08</td>\n",
       "      <td>2021-07-23--2021-07-30\\n2021-07-16--2021-07-23...</td>\n",
       "      <td>100</td>\n",
       "      <td>0.714</td>\n",
       "      <td>0.8</td>\n",
       "      <td>-4.808</td>\n",
       "      <td>0.0504</td>\n",
       "      <td>0.127</td>\n",
       "      <td>0.359</td>\n",
       "      <td>134.002</td>\n",
       "      <td>211560</td>\n",
       "      <td>0.589</td>\n",
       "      <td>B</td>\n",
       "      <td>Måneskin</td>\n",
       "      <td>mixed</td>\n",
       "      <td>4</td>\n",
       "      <td>group</td>\n",
       "      <td>NaN</td>\n",
       "    </tr>\n",
       "    <tr>\n",
       "      <th>1</th>\n",
       "      <td>8</td>\n",
       "      <td>10</td>\n",
       "      <td>2021-07-02--2021-07-09</td>\n",
       "      <td>I WANNA BE YOUR SLAVE</td>\n",
       "      <td>24,551,591</td>\n",
       "      <td>Måneskin</td>\n",
       "      <td>3377762</td>\n",
       "      <td>4pt5fDVTg5GhEvEtlz9dKk</td>\n",
       "      <td>['indie rock italiano', 'italian pop']</td>\n",
       "      <td>2021-03-19</td>\n",
       "      <td>2021-07-23--2021-07-30\\n2021-07-16--2021-07-23...</td>\n",
       "      <td>95</td>\n",
       "      <td>0.75</td>\n",
       "      <td>0.608</td>\n",
       "      <td>-4.008</td>\n",
       "      <td>0.0387</td>\n",
       "      <td>0.00165</td>\n",
       "      <td>0.178</td>\n",
       "      <td>132.507</td>\n",
       "      <td>173347</td>\n",
       "      <td>0.958</td>\n",
       "      <td>C#/Db</td>\n",
       "      <td>Måneskin</td>\n",
       "      <td>mixed</td>\n",
       "      <td>4</td>\n",
       "      <td>group</td>\n",
       "      <td>NaN</td>\n",
       "    </tr>\n",
       "  </tbody>\n",
       "</table>\n",
       "</div>"
      ],
      "text/plain": [
       "   Highest Charting Position  Number of Times Charted  \\\n",
       "0                          1                        8   \n",
       "1                          8                       10   \n",
       "\n",
       "  Week of Highest Charting              Song Name     Streams    Artist  \\\n",
       "0   2021-07-23--2021-07-30                Beggin'  48,633,449  Måneskin   \n",
       "1   2021-07-02--2021-07-09  I WANNA BE YOUR SLAVE  24,551,591  Måneskin   \n",
       "\n",
       "  Artist Followers                 Song ID  \\\n",
       "0          3377762  3Wrjm47oTz2sjIgck11l5e   \n",
       "1          3377762  4pt5fDVTg5GhEvEtlz9dKk   \n",
       "\n",
       "                                    Genre Release Date  \\\n",
       "0  ['indie rock italiano', 'italian pop']   2017-12-08   \n",
       "1  ['indie rock italiano', 'italian pop']   2021-03-19   \n",
       "\n",
       "                                       Weeks Charted Popularity Danceability  \\\n",
       "0  2021-07-23--2021-07-30\\n2021-07-16--2021-07-23...        100        0.714   \n",
       "1  2021-07-23--2021-07-30\\n2021-07-16--2021-07-23...         95         0.75   \n",
       "\n",
       "  Energy Loudness Speechiness Acousticness Liveness    Tempo Duration (ms)  \\\n",
       "0    0.8   -4.808      0.0504        0.127    0.359  134.002        211560   \n",
       "1  0.608   -4.008      0.0387      0.00165    0.178  132.507        173347   \n",
       "\n",
       "  Valence  Chord    artist gender  age   type country  \n",
       "0   0.589      B  Måneskin  mixed    4  group     NaN  \n",
       "1   0.958  C#/Db  Måneskin  mixed    4  group     NaN  "
      ]
     },
     "execution_count": 16,
     "metadata": {},
     "output_type": "execute_result"
    }
   ],
   "source": [
    "df = df_spotify.merge(df_a, left_on= \"Artist\", right_on=\"artist\", how=\"inner\")\n",
    "df.head(2)"
   ]
  },
  {
   "cell_type": "code",
   "execution_count": 17,
   "id": "cb4afb60",
   "metadata": {},
   "outputs": [],
   "source": [
    "df.drop(['artist'], axis = 1, inplace=True)"
   ]
  },
  {
   "cell_type": "code",
   "execution_count": 18,
   "id": "1664f9df",
   "metadata": {},
   "outputs": [],
   "source": [
    "df.columns = df.columns.str.replace(' ', '_')\n",
    "df.columns=[i.title() for i in df.columns]"
   ]
  },
  {
   "cell_type": "markdown",
   "id": "fd9cf595",
   "metadata": {},
   "source": [
    "# 2- Cleaning"
   ]
  },
  {
   "cell_type": "code",
   "execution_count": 19,
   "id": "746eb331",
   "metadata": {},
   "outputs": [
    {
     "data": {
      "text/plain": [
       "(1157, 26)"
      ]
     },
     "execution_count": 19,
     "metadata": {},
     "output_type": "execute_result"
    }
   ],
   "source": [
    "df.shape #lets see which information interest me "
   ]
  },
  {
   "cell_type": "code",
   "execution_count": 20,
   "id": "1f7449a1",
   "metadata": {},
   "outputs": [
    {
     "data": {
      "text/plain": [
       "14"
      ]
     },
     "execution_count": 20,
     "metadata": {},
     "output_type": "execute_result"
    }
   ],
   "source": [
    "df.duplicated().sum()"
   ]
  },
  {
   "cell_type": "code",
   "execution_count": 21,
   "id": "a24885ed",
   "metadata": {},
   "outputs": [],
   "source": [
    "df.drop_duplicates(keep='first', inplace=True)"
   ]
  },
  {
   "cell_type": "markdown",
   "id": "6074e93c",
   "metadata": {},
   "source": [
    "## 2.1 Column Types"
   ]
  },
  {
   "cell_type": "code",
   "execution_count": 22,
   "id": "bf69c6eb",
   "metadata": {},
   "outputs": [
    {
     "data": {
      "text/plain": [
       "Highest_Charting_Position     int64\n",
       "Number_Of_Times_Charted       int64\n",
       "Week_Of_Highest_Charting     object\n",
       "Song_Name                    object\n",
       "Streams                      object\n",
       "Artist                       object\n",
       "Artist_Followers             object\n",
       "Song_Id                      object\n",
       "Genre                        object\n",
       "Release_Date                 object\n",
       "Weeks_Charted                object\n",
       "Popularity                   object\n",
       "Danceability                 object\n",
       "Energy                       object\n",
       "Loudness                     object\n",
       "Speechiness                  object\n",
       "Acousticness                 object\n",
       "Liveness                     object\n",
       "Tempo                        object\n",
       "Duration_(Ms)                object\n",
       "Valence                      object\n",
       "Chord                        object\n",
       "Gender                       object\n",
       "Age                           int64\n",
       "Type                         object\n",
       "Country                      object\n",
       "dtype: object"
      ]
     },
     "execution_count": 22,
     "metadata": {},
     "output_type": "execute_result"
    }
   ],
   "source": [
    "df.dtypes #Some of them aren´t right"
   ]
  },
  {
   "cell_type": "code",
   "execution_count": 23,
   "id": "0f7437b5",
   "metadata": {},
   "outputs": [
    {
     "data": {
      "text/html": [
       "<div>\n",
       "<style scoped>\n",
       "    .dataframe tbody tr th:only-of-type {\n",
       "        vertical-align: middle;\n",
       "    }\n",
       "\n",
       "    .dataframe tbody tr th {\n",
       "        vertical-align: top;\n",
       "    }\n",
       "\n",
       "    .dataframe thead th {\n",
       "        text-align: right;\n",
       "    }\n",
       "</style>\n",
       "<table border=\"1\" class=\"dataframe\">\n",
       "  <thead>\n",
       "    <tr style=\"text-align: right;\">\n",
       "      <th></th>\n",
       "      <th>Popularity</th>\n",
       "      <th>Danceability</th>\n",
       "      <th>Energy</th>\n",
       "      <th>Loudness</th>\n",
       "      <th>Speechiness</th>\n",
       "      <th>Acousticness</th>\n",
       "      <th>Liveness</th>\n",
       "      <th>Tempo</th>\n",
       "      <th>Duration_(Ms)</th>\n",
       "      <th>Valence</th>\n",
       "    </tr>\n",
       "  </thead>\n",
       "  <tbody>\n",
       "    <tr>\n",
       "      <th>0</th>\n",
       "      <td>100</td>\n",
       "      <td>0.714</td>\n",
       "      <td>0.8</td>\n",
       "      <td>-4.808</td>\n",
       "      <td>0.0504</td>\n",
       "      <td>0.127</td>\n",
       "      <td>0.359</td>\n",
       "      <td>134.002</td>\n",
       "      <td>211560</td>\n",
       "      <td>0.589</td>\n",
       "    </tr>\n",
       "  </tbody>\n",
       "</table>\n",
       "</div>"
      ],
      "text/plain": [
       "  Popularity Danceability Energy Loudness Speechiness Acousticness Liveness  \\\n",
       "0        100        0.714    0.8   -4.808      0.0504        0.127    0.359   \n",
       "\n",
       "     Tempo Duration_(Ms) Valence  \n",
       "0  134.002        211560   0.589  "
      ]
     },
     "execution_count": 23,
     "metadata": {},
     "output_type": "execute_result"
    }
   ],
   "source": [
    "df.loc[:,\"Popularity\":\"Valence\"].head(1) #this columns should me numeric"
   ]
  },
  {
   "cell_type": "code",
   "execution_count": 24,
   "id": "8d5be578",
   "metadata": {},
   "outputs": [],
   "source": [
    "df[\"Popularity1\"]=pd.to_numeric(df[\"Popularity\"], errors='coerce') "
   ]
  },
  {
   "cell_type": "code",
   "execution_count": 25,
   "id": "e83fd2cd",
   "metadata": {},
   "outputs": [
    {
     "data": {
      "text/plain": [
       "9"
      ]
     },
     "execution_count": 25,
     "metadata": {},
     "output_type": "execute_result"
    }
   ],
   "source": [
    "df[\"Popularity1\"].isnull().sum()"
   ]
  },
  {
   "cell_type": "code",
   "execution_count": 26,
   "id": "6a731a98",
   "metadata": {},
   "outputs": [],
   "source": [
    "null = df[\"Popularity1\"].isnull()\n",
    "df_null = df.loc[null, :]"
   ]
  },
  {
   "cell_type": "code",
   "execution_count": 27,
   "id": "a39df3e0",
   "metadata": {},
   "outputs": [
    {
     "data": {
      "text/html": [
       "<div>\n",
       "<style scoped>\n",
       "    .dataframe tbody tr th:only-of-type {\n",
       "        vertical-align: middle;\n",
       "    }\n",
       "\n",
       "    .dataframe tbody tr th {\n",
       "        vertical-align: top;\n",
       "    }\n",
       "\n",
       "    .dataframe thead th {\n",
       "        text-align: right;\n",
       "    }\n",
       "</style>\n",
       "<table border=\"1\" class=\"dataframe\">\n",
       "  <thead>\n",
       "    <tr style=\"text-align: right;\">\n",
       "      <th></th>\n",
       "      <th>Highest_Charting_Position</th>\n",
       "      <th>Number_Of_Times_Charted</th>\n",
       "      <th>Week_Of_Highest_Charting</th>\n",
       "      <th>Song_Name</th>\n",
       "      <th>Streams</th>\n",
       "      <th>Artist</th>\n",
       "      <th>Artist_Followers</th>\n",
       "      <th>Song_Id</th>\n",
       "      <th>Genre</th>\n",
       "      <th>Release_Date</th>\n",
       "      <th>Weeks_Charted</th>\n",
       "      <th>Popularity</th>\n",
       "      <th>Danceability</th>\n",
       "      <th>Energy</th>\n",
       "      <th>Loudness</th>\n",
       "      <th>Speechiness</th>\n",
       "      <th>Acousticness</th>\n",
       "      <th>Liveness</th>\n",
       "      <th>Tempo</th>\n",
       "      <th>Duration_(Ms)</th>\n",
       "      <th>Valence</th>\n",
       "      <th>Chord</th>\n",
       "      <th>Gender</th>\n",
       "      <th>Age</th>\n",
       "      <th>Type</th>\n",
       "      <th>Country</th>\n",
       "      <th>Popularity1</th>\n",
       "    </tr>\n",
       "  </thead>\n",
       "  <tbody>\n",
       "    <tr>\n",
       "      <th>5</th>\n",
       "      <td>36</td>\n",
       "      <td>1</td>\n",
       "      <td>2021-07-23--2021-07-30</td>\n",
       "      <td>NOT SOBER (feat. Polo G &amp; Stunna Gambino)</td>\n",
       "      <td>11,869,336</td>\n",
       "      <td>The Kid LAROI</td>\n",
       "      <td></td>\n",
       "      <td></td>\n",
       "      <td></td>\n",
       "      <td></td>\n",
       "      <td>2021-07-23--2021-07-30</td>\n",
       "      <td></td>\n",
       "      <td></td>\n",
       "      <td></td>\n",
       "      <td></td>\n",
       "      <td></td>\n",
       "      <td></td>\n",
       "      <td></td>\n",
       "      <td></td>\n",
       "      <td></td>\n",
       "      <td></td>\n",
       "      <td></td>\n",
       "      <td>male</td>\n",
       "      <td>16</td>\n",
       "      <td>person</td>\n",
       "      <td>AU</td>\n",
       "      <td>NaN</td>\n",
       "    </tr>\n",
       "  </tbody>\n",
       "</table>\n",
       "</div>"
      ],
      "text/plain": [
       "   Highest_Charting_Position  Number_Of_Times_Charted  \\\n",
       "5                         36                        1   \n",
       "\n",
       "  Week_Of_Highest_Charting                                  Song_Name  \\\n",
       "5   2021-07-23--2021-07-30  NOT SOBER (feat. Polo G & Stunna Gambino)   \n",
       "\n",
       "      Streams         Artist Artist_Followers Song_Id Genre Release_Date  \\\n",
       "5  11,869,336  The Kid LAROI                                               \n",
       "\n",
       "            Weeks_Charted Popularity Danceability Energy Loudness Speechiness  \\\n",
       "5  2021-07-23--2021-07-30                                                       \n",
       "\n",
       "  Acousticness Liveness Tempo Duration_(Ms) Valence Chord Gender  Age    Type  \\\n",
       "5                                                           male   16  person   \n",
       "\n",
       "  Country  Popularity1  \n",
       "5      AU          NaN  "
      ]
     },
     "execution_count": 27,
     "metadata": {},
     "output_type": "execute_result"
    }
   ],
   "source": [
    "df_null.head(1) #because they are blank values"
   ]
  },
  {
   "cell_type": "code",
   "execution_count": 28,
   "id": "0a6ff036",
   "metadata": {},
   "outputs": [],
   "source": [
    "blank = df.apply(lambda x: x.str.isspace().any(), axis=1)\n",
    "df_blank = df.loc[blank, :]"
   ]
  },
  {
   "cell_type": "code",
   "execution_count": 29,
   "id": "7b9b12b5",
   "metadata": {},
   "outputs": [
    {
     "data": {
      "text/plain": [
       "(9, 27)"
      ]
     },
     "execution_count": 29,
     "metadata": {},
     "output_type": "execute_result"
    }
   ],
   "source": [
    "df_blank.shape #same as Nas"
   ]
  },
  {
   "cell_type": "code",
   "execution_count": 30,
   "id": "9f16c5e1",
   "metadata": {},
   "outputs": [],
   "source": [
    "df[\"Popularity\"]=df[\"Popularity1\"]"
   ]
  },
  {
   "cell_type": "code",
   "execution_count": 31,
   "id": "cfa82974",
   "metadata": {},
   "outputs": [],
   "source": [
    "df.drop([\"Popularity1\"], axis = 1, inplace=True) "
   ]
  },
  {
   "cell_type": "code",
   "execution_count": 32,
   "id": "442b49ed",
   "metadata": {},
   "outputs": [],
   "source": [
    "df_float=df.loc[:,\"Danceability\":\"Valence\"]"
   ]
  },
  {
   "cell_type": "code",
   "execution_count": 33,
   "id": "a0387e51",
   "metadata": {},
   "outputs": [],
   "source": [
    "df_float=df_float.apply(pd.to_numeric, errors='coerce')"
   ]
  },
  {
   "cell_type": "code",
   "execution_count": 34,
   "id": "2726d5de",
   "metadata": {},
   "outputs": [],
   "source": [
    "df.loc[:,\"Danceability\":\"Valence\"]=df_float"
   ]
  },
  {
   "cell_type": "code",
   "execution_count": 35,
   "id": "6f1efffc",
   "metadata": {},
   "outputs": [
    {
     "data": {
      "text/plain": [
       "Highest_Charting_Position      int64\n",
       "Number_Of_Times_Charted        int64\n",
       "Week_Of_Highest_Charting      object\n",
       "Song_Name                     object\n",
       "Streams                       object\n",
       "Artist                        object\n",
       "Artist_Followers              object\n",
       "Song_Id                       object\n",
       "Genre                         object\n",
       "Release_Date                  object\n",
       "Weeks_Charted                 object\n",
       "Popularity                   float64\n",
       "Danceability                 float64\n",
       "Energy                       float64\n",
       "Loudness                     float64\n",
       "Speechiness                  float64\n",
       "Acousticness                 float64\n",
       "Liveness                     float64\n",
       "Tempo                        float64\n",
       "Duration_(Ms)                float64\n",
       "Valence                      float64\n",
       "Chord                         object\n",
       "Gender                        object\n",
       "Age                            int64\n",
       "Type                          object\n",
       "Country                       object\n",
       "dtype: object"
      ]
     },
     "execution_count": 35,
     "metadata": {},
     "output_type": "execute_result"
    }
   ],
   "source": [
    "df.dtypes #now we are good"
   ]
  },
  {
   "cell_type": "markdown",
   "id": "a57bb14b",
   "metadata": {},
   "source": [
    "## 2.2 Null values"
   ]
  },
  {
   "cell_type": "code",
   "execution_count": 36,
   "id": "ea9fcbcb",
   "metadata": {},
   "outputs": [
    {
     "data": {
      "text/html": [
       "<div>\n",
       "<style scoped>\n",
       "    .dataframe tbody tr th:only-of-type {\n",
       "        vertical-align: middle;\n",
       "    }\n",
       "\n",
       "    .dataframe tbody tr th {\n",
       "        vertical-align: top;\n",
       "    }\n",
       "\n",
       "    .dataframe thead th {\n",
       "        text-align: right;\n",
       "    }\n",
       "</style>\n",
       "<table border=\"1\" class=\"dataframe\">\n",
       "  <thead>\n",
       "    <tr style=\"text-align: right;\">\n",
       "      <th></th>\n",
       "      <th>0</th>\n",
       "    </tr>\n",
       "  </thead>\n",
       "  <tbody>\n",
       "    <tr>\n",
       "      <th>Popularity</th>\n",
       "      <td>0.787402</td>\n",
       "    </tr>\n",
       "    <tr>\n",
       "      <th>Danceability</th>\n",
       "      <td>0.787402</td>\n",
       "    </tr>\n",
       "    <tr>\n",
       "      <th>Energy</th>\n",
       "      <td>0.787402</td>\n",
       "    </tr>\n",
       "    <tr>\n",
       "      <th>Loudness</th>\n",
       "      <td>0.787402</td>\n",
       "    </tr>\n",
       "    <tr>\n",
       "      <th>Speechiness</th>\n",
       "      <td>0.787402</td>\n",
       "    </tr>\n",
       "    <tr>\n",
       "      <th>Acousticness</th>\n",
       "      <td>0.787402</td>\n",
       "    </tr>\n",
       "    <tr>\n",
       "      <th>Liveness</th>\n",
       "      <td>0.787402</td>\n",
       "    </tr>\n",
       "    <tr>\n",
       "      <th>Tempo</th>\n",
       "      <td>0.787402</td>\n",
       "    </tr>\n",
       "    <tr>\n",
       "      <th>Duration_(Ms)</th>\n",
       "      <td>0.787402</td>\n",
       "    </tr>\n",
       "    <tr>\n",
       "      <th>Valence</th>\n",
       "      <td>0.787402</td>\n",
       "    </tr>\n",
       "    <tr>\n",
       "      <th>Gender</th>\n",
       "      <td>1.487314</td>\n",
       "    </tr>\n",
       "    <tr>\n",
       "      <th>Type</th>\n",
       "      <td>1.487314</td>\n",
       "    </tr>\n",
       "    <tr>\n",
       "      <th>Country</th>\n",
       "      <td>12.860892</td>\n",
       "    </tr>\n",
       "  </tbody>\n",
       "</table>\n",
       "</div>"
      ],
      "text/plain": [
       "                       0\n",
       "Popularity      0.787402\n",
       "Danceability    0.787402\n",
       "Energy          0.787402\n",
       "Loudness        0.787402\n",
       "Speechiness     0.787402\n",
       "Acousticness    0.787402\n",
       "Liveness        0.787402\n",
       "Tempo           0.787402\n",
       "Duration_(Ms)   0.787402\n",
       "Valence         0.787402\n",
       "Gender          1.487314\n",
       "Type            1.487314\n",
       "Country        12.860892"
      ]
     },
     "execution_count": 36,
     "metadata": {},
     "output_type": "execute_result"
    }
   ],
   "source": [
    "df_nul=pd.DataFrame((df.isnull().sum() * 100) / df.shape[0])\n",
    "df_nul[df_nul[0]>0] #Objective of the null values is to remove only when <1% but I will first investigate the data for authenticity"
   ]
  },
  {
   "cell_type": "code",
   "execution_count": 38,
   "id": "0e70a7bb",
   "metadata": {},
   "outputs": [],
   "source": [
    "df.to_csv(\"../data/df_spotify1.csv\") "
   ]
  },
  {
   "cell_type": "markdown",
   "id": "2f91939f",
   "metadata": {},
   "source": [
    "## 2.3 Data Manipulation"
   ]
  },
  {
   "cell_type": "markdown",
   "id": "da53a2ca",
   "metadata": {},
   "source": [
    "### 2.3.1 Genre"
   ]
  },
  {
   "cell_type": "code",
   "execution_count": 39,
   "id": "22ce10a6",
   "metadata": {},
   "outputs": [
    {
     "data": {
      "text/plain": [
       "0    ['indie rock italiano', 'italian pop']\n",
       "1    ['indie rock italiano', 'italian pop']\n",
       "2    ['indie rock italiano', 'italian pop']\n",
       "3    ['indie rock italiano', 'italian pop']\n",
       "4                    ['australian hip hop']\n",
       "Name: Genre, dtype: object"
      ]
     },
     "execution_count": 39,
     "metadata": {},
     "output_type": "execute_result"
    }
   ],
   "source": [
    "df[\"Genre\"].head(5)"
   ]
  },
  {
   "cell_type": "code",
   "execution_count": 40,
   "id": "0de02cb7",
   "metadata": {},
   "outputs": [],
   "source": [
    "df[\"Genre\"]=df[\"Genre\"].str.split(\",\")"
   ]
  },
  {
   "cell_type": "code",
   "execution_count": 41,
   "id": "f5c64f9b",
   "metadata": {},
   "outputs": [],
   "source": [
    "import re"
   ]
  },
  {
   "cell_type": "code",
   "execution_count": 42,
   "id": "33fdf492",
   "metadata": {},
   "outputs": [],
   "source": [
    "def genre(column):\n",
    "    listi=[]\n",
    "    for i in column:\n",
    "        y= re.findall(\"[a-z]+.*\\w+\", str(i))\n",
    "        try:\n",
    "            listi.append(y[0])\n",
    "        except:\n",
    "            listi.append(y)\n",
    "    return str(listi[0])"
   ]
  },
  {
   "cell_type": "code",
   "execution_count": 43,
   "id": "6ab90e7b",
   "metadata": {},
   "outputs": [],
   "source": [
    "def subgenre(column):\n",
    "    listi=[]\n",
    "    for i in column: \n",
    "        x= re.findall(\"[a-z]+.*\\w+\", str(i))\n",
    "        try:\n",
    "            listi.append(x[0])\n",
    "            y=str(listi[1])\n",
    "        except:\n",
    "            y=np.nan\n",
    "    return y"
   ]
  },
  {
   "cell_type": "code",
   "execution_count": 44,
   "id": "a69d648f",
   "metadata": {},
   "outputs": [],
   "source": [
    "df[\"Genre2\"]=df[\"Genre\"].apply(subgenre)"
   ]
  },
  {
   "cell_type": "code",
   "execution_count": 45,
   "id": "f1aad931",
   "metadata": {},
   "outputs": [],
   "source": [
    "df[\"Genre1\"]=df[\"Genre\"].apply(genre)"
   ]
  },
  {
   "cell_type": "code",
   "execution_count": 46,
   "id": "55c6a441",
   "metadata": {},
   "outputs": [
    {
     "data": {
      "text/plain": [
       "dance pop         175\n",
       "pop                95\n",
       "melodic rap        53\n",
       "latin              53\n",
       "hip hop            52\n",
       "[]                 47\n",
       "k-pop              44\n",
       "chicago rap        41\n",
       "canadian pop       34\n",
       "brooklyn drill     34\n",
       "Name: Genre1, dtype: int64"
      ]
     },
     "execution_count": 46,
     "metadata": {},
     "output_type": "execute_result"
    }
   ],
   "source": [
    "df[\"Genre1\"].value_counts().head(10) #we have some blanks=[]"
   ]
  },
  {
   "cell_type": "code",
   "execution_count": 47,
   "id": "626fcfac",
   "metadata": {},
   "outputs": [
    {
     "data": {
      "text/plain": [
       "pop                200\n",
       "post-teen pop       59\n",
       "hip hop             55\n",
       "rap                 48\n",
       "melodic rap         45\n",
       "reggaeton           44\n",
       "canadian pop        43\n",
       "pop rap             33\n",
       "philly rap          33\n",
       "k-pop boy group     29\n",
       "Name: Genre2, dtype: int64"
      ]
     },
     "execution_count": 47,
     "metadata": {},
     "output_type": "execute_result"
    }
   ],
   "source": [
    "df[\"Genre2\"].value_counts().head(10)"
   ]
  },
  {
   "cell_type": "code",
   "execution_count": 48,
   "id": "b1d678bb",
   "metadata": {},
   "outputs": [
    {
     "data": {
      "text/plain": [
       "132"
      ]
     },
     "execution_count": 48,
     "metadata": {},
     "output_type": "execute_result"
    }
   ],
   "source": [
    "df[\"Genre1\"].unique().size #more generic song genres"
   ]
  },
  {
   "cell_type": "code",
   "execution_count": 49,
   "id": "74ad7767",
   "metadata": {},
   "outputs": [],
   "source": [
    "list_genre=[\"pop\", \"hip hop\", \"latin\", \"rock\", \"dance pop\", \"rap\", \"trap\", \"pop rock\", \"funk\", \"reggaeton\", \"r&b\", \"edm\", \"drill\"]"
   ]
  },
  {
   "cell_type": "code",
   "execution_count": 50,
   "id": "149c74a2",
   "metadata": {},
   "outputs": [
    {
     "name": "stderr",
     "output_type": "stream",
     "text": [
      "C:\\Users\\egcmo\\anaconda3\\lib\\site-packages\\fuzzywuzzy\\fuzz.py:11: UserWarning: Using slow pure-python SequenceMatcher. Install python-Levenshtein to remove this warning\n",
      "  warnings.warn('Using slow pure-python SequenceMatcher. Install python-Levenshtein to remove this warning')\n"
     ]
    }
   ],
   "source": [
    "from fuzzywuzzy import process, fuzz"
   ]
  },
  {
   "cell_type": "code",
   "execution_count": 51,
   "id": "397e88e6",
   "metadata": {},
   "outputs": [],
   "source": [
    "def asociar_genero(df_genero, list_genero):\n",
    "    maximo = 0\n",
    "    genero_encontrado = None\n",
    "    for genre in list_genero:\n",
    "        if genre in df_genero:\n",
    "            genero_encontrado = genre\n",
    "        else:\n",
    "            parecido = fuzz.ratio(df_genero, genre)\n",
    "            if parecido > maximo:\n",
    "                maximo = parecido\n",
    "    if genero_encontrado is not None:\n",
    "        return genero_encontrado\n",
    "    elif maximo > 50:\n",
    "        return genero_encontrado\n",
    "    else:\n",
    "        return \"other\"   "
   ]
  },
  {
   "cell_type": "code",
   "execution_count": 52,
   "id": "b693d4de",
   "metadata": {},
   "outputs": [],
   "source": [
    "df[\"Genre_Gen\"] = df.apply(lambda df: asociar_genero(df[\"Genre1\"], list_genre), axis = 1)"
   ]
  },
  {
   "cell_type": "code",
   "execution_count": 53,
   "id": "f9fc4fc5",
   "metadata": {},
   "outputs": [
    {
     "data": {
      "text/plain": [
       "pop          232\n",
       "hip hop      226\n",
       "dance pop    175\n",
       "rap          169\n",
       "other        158\n",
       "latin         55\n",
       "rock          38\n",
       "drill         36\n",
       "r&b           35\n",
       "funk           6\n",
       "trap           4\n",
       "edm            3\n",
       "reggaeton      1\n",
       "pop rock       1\n",
       "Name: Genre_Gen, dtype: int64"
      ]
     },
     "execution_count": 53,
     "metadata": {},
     "output_type": "execute_result"
    }
   ],
   "source": [
    "df[\"Genre_Gen\"].value_counts()"
   ]
  },
  {
   "cell_type": "code",
   "execution_count": 54,
   "id": "22527329",
   "metadata": {},
   "outputs": [
    {
     "data": {
      "text/plain": [
       "array(['[]', 'big room', 'brostep', 'alt z', 'sertanejo', 'grunge',\n",
       "       'irish singer-songwriter', 'permanent wave',\n",
       "       'contemporary country', 'neo soul', 'neo mellow', 'escape room',\n",
       "       'beatlesque', 'alternative metal', 'forro', 'new romantic',\n",
       "       'australian dance', 'australian psych', 'tropical house',\n",
       "       'melodic metalcore', 'cubaton', 'bedroom soul', 'disco',\n",
       "       'adult standards', 'musical advocacy', 'motown', 'boy band',\n",
       "       'hollywood', 'british soul', 'a cappella', 'chicago soul',\n",
       "       'south african house', 'basshall', 'jawaiian', 'afroswing',\n",
       "       'mariachi', 'grime'], dtype=object)"
      ]
     },
     "execution_count": 54,
     "metadata": {},
     "output_type": "execute_result"
    }
   ],
   "source": [
    "df_other=df[df[\"Genre_Gen\"]==\"other\"]\n",
    "df_other[\"Genre1\"].unique()"
   ]
  },
  {
   "cell_type": "code",
   "execution_count": 55,
   "id": "28fb878c",
   "metadata": {},
   "outputs": [
    {
     "data": {
      "text/plain": [
       "array([nan, 'brostep', 'edm', 'dance pop', 'sertanejo pop', 'bedroom pop',\n",
       "       'permanent wave', 'modern rock', 'sertanejo universitario', 'pop',\n",
       "       'country', 'pop rock', 'r&b', 'britpop', 'nu metal',\n",
       "       'canadian contemporary r&b', 'piseiro', 'new wave',\n",
       "       'australian pop', 'neo-psychedelic', 'metalcore', 'dominican pop',\n",
       "       'europop', 'brill building pop', 'canadian pop', 'easy listening',\n",
       "       'lounge', 'american folk revival', 'soul', 'sertanejo',\n",
       "       'show tunes', 'classic soul', 'francoton', 'country road',\n",
       "       'electropop', 'funk', 'social media pop', 'indie cafe pop',\n",
       "       'hip hop', 'nuevo regional mexicano', 'uk hip hop'], dtype=object)"
      ]
     },
     "execution_count": 55,
     "metadata": {},
     "output_type": "execute_result"
    }
   ],
   "source": [
    "df_other[\"Genre2\"].unique() #I will use the function asociar_genero in Genre2 to reduce the \"other\""
   ]
  },
  {
   "cell_type": "code",
   "execution_count": 56,
   "id": "724a7f20",
   "metadata": {},
   "outputs": [],
   "source": [
    "condicion = (df[\"Genre_Gen\"] == \"other\") & df[\"Genre2\"].notnull()\n",
    "df.loc[condicion, \"Genre1\"] = df.loc[condicion, \"Genre2\"]"
   ]
  },
  {
   "cell_type": "code",
   "execution_count": 57,
   "id": "20997aa6",
   "metadata": {},
   "outputs": [],
   "source": [
    "df[\"Genre_Gen\"] = df.apply(lambda df: asociar_genero(df[\"Genre1\"], list_genre), axis = 1)"
   ]
  },
  {
   "cell_type": "code",
   "execution_count": 58,
   "id": "3b4d0a6a",
   "metadata": {},
   "outputs": [
    {
     "data": {
      "text/plain": [
       "pop          262\n",
       "hip hop      228\n",
       "dance pop    193\n",
       "rap          169\n",
       "other         98\n",
       "latin         55\n",
       "rock          39\n",
       "r&b           37\n",
       "drill         36\n",
       "funk           7\n",
       "edm            5\n",
       "trap           4\n",
       "pop rock       3\n",
       "reggaeton      1\n",
       "Name: Genre_Gen, dtype: int64"
      ]
     },
     "execution_count": 58,
     "metadata": {},
     "output_type": "execute_result"
    }
   ],
   "source": [
    "df[\"Genre_Gen\"].value_counts() #now we have less others"
   ]
  },
  {
   "cell_type": "code",
   "execution_count": 59,
   "id": "c1037d52",
   "metadata": {},
   "outputs": [
    {
     "data": {
      "text/plain": [
       "array(['[]', 'brostep', 'permanent wave', 'sertanejo universitario',\n",
       "       'country', 'nu metal', 'forro', 'piseiro', 'new wave',\n",
       "       'neo-psychedelic', 'tropical house', 'metalcore',\n",
       "       'contemporary country', 'easy listening', 'musical advocacy',\n",
       "       'lounge', 'american folk revival', 'soul', 'sertanejo',\n",
       "       'show tunes', 'a cappella', 'classic soul', 'south african house',\n",
       "       'country road', 'jawaiian', 'nuevo regional mexicano'],\n",
       "      dtype=object)"
      ]
     },
     "execution_count": 59,
     "metadata": {},
     "output_type": "execute_result"
    }
   ],
   "source": [
    "df_other2=df[df[\"Genre_Gen\"]==\"other\"]\n",
    "df_other2[\"Genre1\"].unique() #OK to be \"other\""
   ]
  },
  {
   "cell_type": "code",
   "execution_count": 60,
   "id": "4e35a3f6",
   "metadata": {},
   "outputs": [],
   "source": [
    "df.to_csv(\"../data/df_spotify2.csv\")"
   ]
  },
  {
   "cell_type": "markdown",
   "id": "aa268b57",
   "metadata": {},
   "source": [
    "### 2.3.2 Highest_Charting"
   ]
  },
  {
   "cell_type": "code",
   "execution_count": 61,
   "id": "2809bc3f",
   "metadata": {},
   "outputs": [],
   "source": [
    "df = pd.read_csv(\"../data/df_spotify2.csv\", index_col = 0 )"
   ]
  },
  {
   "cell_type": "code",
   "execution_count": 62,
   "id": "ce9b8195",
   "metadata": {},
   "outputs": [],
   "source": [
    "df[\"Week_Of_Highest_Charting\"] = df[\"Week_Of_Highest_Charting\"].str.split(\"--\", expand = True).get(0)"
   ]
  },
  {
   "cell_type": "code",
   "execution_count": 63,
   "id": "9a9c00e7",
   "metadata": {},
   "outputs": [
    {
     "data": {
      "text/plain": [
       "2020-12-18    63\n",
       "2019-12-27    53\n",
       "2020-01-03    40\n",
       "2020-01-17    35\n",
       "2020-03-06    30\n",
       "Name: Week_Of_Highest_Charting, dtype: int64"
      ]
     },
     "execution_count": 63,
     "metadata": {},
     "output_type": "execute_result"
    }
   ],
   "source": [
    "df[\"Week_Of_Highest_Charting\"].value_counts().head()"
   ]
  },
  {
   "cell_type": "code",
   "execution_count": 64,
   "id": "79ae055b",
   "metadata": {},
   "outputs": [],
   "source": [
    "from datetime import datetime"
   ]
  },
  {
   "cell_type": "code",
   "execution_count": 65,
   "id": "1a07e852",
   "metadata": {},
   "outputs": [],
   "source": [
    "def info_mes(x):\n",
    "        fecha_str = x\n",
    "        fecha_obj = datetime.strptime(fecha_str, \"%Y-%m-%d\")\n",
    "        mes = fecha_obj.strftime(\"%B\")\n",
    "    \n",
    "        return mes"
   ]
  },
  {
   "cell_type": "code",
   "execution_count": 66,
   "id": "f9e2f0c1",
   "metadata": {},
   "outputs": [],
   "source": [
    "def estacion(mes):\n",
    "    if mes in [\"December\", \"January\", \"February\"]:\n",
    "        return \"Winter\"\n",
    "    elif mes in [\"March\", \"April\", \"May\"]:\n",
    "        return \"Spring\"\n",
    "    elif mes in [\"June\", \"July\", \"August\"]:\n",
    "        return \"Summer\"\n",
    "    elif mes in [\"September\", \"October\", \"November\"]:\n",
    "        return \"Autumn\"\n"
   ]
  },
  {
   "cell_type": "code",
   "execution_count": 67,
   "id": "1d9ba533",
   "metadata": {},
   "outputs": [],
   "source": [
    "def info_año(x):\n",
    "        fecha = datetime.strptime(x, \"%Y-%m-%d\")\n",
    "        año = fecha.strftime(\"%Y\")\n",
    "    \n",
    "        return año"
   ]
  },
  {
   "cell_type": "code",
   "execution_count": 68,
   "id": "1e2c503a",
   "metadata": {},
   "outputs": [],
   "source": [
    "df[\"Month_Highest_Charting\"]=df[\"Week_Of_Highest_Charting\"].apply(info_mes)"
   ]
  },
  {
   "cell_type": "code",
   "execution_count": 69,
   "id": "200163ea",
   "metadata": {},
   "outputs": [],
   "source": [
    "df[\"Season_Highest_Charting\"]=df[\"Month_Highest_Charting\"].apply(estacion)"
   ]
  },
  {
   "cell_type": "code",
   "execution_count": 70,
   "id": "355b7031",
   "metadata": {},
   "outputs": [],
   "source": [
    "df[\"Year_Highest_Charting\"]=df[\"Week_Of_Highest_Charting\"].apply(info_año)"
   ]
  },
  {
   "cell_type": "code",
   "execution_count": 71,
   "id": "db4b6008",
   "metadata": {},
   "outputs": [],
   "source": [
    "df.to_csv(\"../data/df_spotify3.csv\") "
   ]
  },
  {
   "cell_type": "markdown",
   "id": "6839fdbd",
   "metadata": {},
   "source": [
    "### 2.3.3  Gender"
   ]
  },
  {
   "cell_type": "code",
   "execution_count": 72,
   "id": "d7997565",
   "metadata": {},
   "outputs": [
    {
     "data": {
      "text/plain": [
       "count     1126\n",
       "unique       4\n",
       "top       male\n",
       "freq       693\n",
       "Name: Gender, dtype: object"
      ]
     },
     "execution_count": 72,
     "metadata": {},
     "output_type": "execute_result"
    }
   ],
   "source": [
    "df[\"Gender\"].describe(include = \"object\").T #4 genders?"
   ]
  },
  {
   "cell_type": "code",
   "execution_count": 73,
   "id": "8cd0b5b9",
   "metadata": {},
   "outputs": [
    {
     "data": {
      "text/plain": [
       "array(['mixed', 'male', 'female', nan, 'other'], dtype=object)"
      ]
     },
     "execution_count": 73,
     "metadata": {},
     "output_type": "execute_result"
    }
   ],
   "source": [
    "df[\"Gender\"].unique()"
   ]
  },
  {
   "cell_type": "code",
   "execution_count": 74,
   "id": "e2078110",
   "metadata": {},
   "outputs": [
    {
     "data": {
      "text/plain": [
       "male      693\n",
       "female    255\n",
       "mixed     163\n",
       "other      15\n",
       "Name: Gender, dtype: int64"
      ]
     },
     "execution_count": 74,
     "metadata": {},
     "output_type": "execute_result"
    }
   ],
   "source": [
    "df[\"Gender\"].value_counts() #what is inside other??"
   ]
  },
  {
   "cell_type": "code",
   "execution_count": 75,
   "id": "00df3d88",
   "metadata": {},
   "outputs": [],
   "source": [
    "df_other=df[df[\"Gender\"] ==\"other\"]"
   ]
  },
  {
   "cell_type": "code",
   "execution_count": 76,
   "id": "bc41ac71",
   "metadata": {},
   "outputs": [
    {
     "data": {
      "text/plain": [
       "array(['Miley Cyrus', 'Sam Smith'], dtype=object)"
      ]
     },
     "execution_count": 76,
     "metadata": {},
     "output_type": "execute_result"
    }
   ],
   "source": [
    "df_other[\"Artist\"].unique() #only 2 artists"
   ]
  },
  {
   "cell_type": "code",
   "execution_count": 77,
   "id": "e06eed0b",
   "metadata": {},
   "outputs": [],
   "source": [
    "def oth_gender(x,y):\n",
    "    if x==\"Miley Cyrus\":\n",
    "        gender=\"female\"\n",
    "    elif x==\"Sam Smith\":\n",
    "        gender=\"male\"\n",
    "    else:\n",
    "        gender=y\n",
    "    return gender"
   ]
  },
  {
   "cell_type": "code",
   "execution_count": 78,
   "id": "8265921d",
   "metadata": {},
   "outputs": [],
   "source": [
    "df['Gender'] = df.apply(lambda df: oth_gender(df['Artist'], df['Gender']), axis=1)"
   ]
  },
  {
   "cell_type": "code",
   "execution_count": 79,
   "id": "6ff4bb1e",
   "metadata": {},
   "outputs": [
    {
     "data": {
      "text/plain": [
       "male      702\n",
       "female    261\n",
       "mixed     163\n",
       "Name: Gender, dtype: int64"
      ]
     },
     "execution_count": 79,
     "metadata": {},
     "output_type": "execute_result"
    }
   ],
   "source": [
    "df[\"Gender\"].value_counts()"
   ]
  },
  {
   "cell_type": "code",
   "execution_count": 80,
   "id": "4a94cc7b",
   "metadata": {},
   "outputs": [
    {
     "data": {
      "text/plain": [
       "array(['group'], dtype=object)"
      ]
     },
     "execution_count": 80,
     "metadata": {},
     "output_type": "execute_result"
    }
   ],
   "source": [
    "df_mix=df[df[\"Gender\"]==\"mixed\"]\n",
    "df_mix[\"Type\"].unique() #group ok"
   ]
  },
  {
   "cell_type": "code",
   "execution_count": 81,
   "id": "5c68e7dc",
   "metadata": {},
   "outputs": [
    {
     "data": {
      "text/plain": [
       "array(['mixed', 'male', 'female', nan], dtype=object)"
      ]
     },
     "execution_count": 81,
     "metadata": {},
     "output_type": "execute_result"
    }
   ],
   "source": [
    "df[\"Gender\"].unique()"
   ]
  },
  {
   "cell_type": "code",
   "execution_count": 82,
   "id": "a212db01",
   "metadata": {},
   "outputs": [],
   "source": [
    "null = df[\"Gender\"].isnull()\n",
    "df_null_g = df.loc[null, :]"
   ]
  },
  {
   "cell_type": "code",
   "execution_count": 83,
   "id": "a35e5124",
   "metadata": {},
   "outputs": [
    {
     "data": {
      "text/plain": [
       "array(['Giveon', 'Sleepy Hallow', 'Boza', 'Baby Keem', 'Rod Wave',\n",
       "       'Fousheé', 'Nea', 'Conkarah', 'S1mba', 'Juanfran', 'DripReport',\n",
       "       'TOKYO’S REVENGE', 'Anne-Marie'], dtype=object)"
      ]
     },
     "execution_count": 83,
     "metadata": {},
     "output_type": "execute_result"
    }
   ],
   "source": [
    "df_null_g[\"Artist\"].unique() "
   ]
  },
  {
   "cell_type": "markdown",
   "id": "3be77873",
   "metadata": {},
   "source": [
    "**Go to end of the notebook to # 2.3.3.1 GENDER Null**"
   ]
  },
  {
   "cell_type": "code",
   "execution_count": 84,
   "id": "a087b40f",
   "metadata": {},
   "outputs": [],
   "source": [
    "df.to_csv(\"../data/df_spotify4.csv\")"
   ]
  },
  {
   "cell_type": "code",
   "execution_count": 86,
   "id": "c9325dc0",
   "metadata": {},
   "outputs": [],
   "source": [
    "df=pd.read_csv(\"../data/df_spotify4.csv\", index_col = 0 )"
   ]
  },
  {
   "cell_type": "code",
   "execution_count": 87,
   "id": "d245df9b",
   "metadata": {},
   "outputs": [
    {
     "data": {
      "text/html": [
       "<div>\n",
       "<style scoped>\n",
       "    .dataframe tbody tr th:only-of-type {\n",
       "        vertical-align: middle;\n",
       "    }\n",
       "\n",
       "    .dataframe tbody tr th {\n",
       "        vertical-align: top;\n",
       "    }\n",
       "\n",
       "    .dataframe thead th {\n",
       "        text-align: right;\n",
       "    }\n",
       "</style>\n",
       "<table border=\"1\" class=\"dataframe\">\n",
       "  <thead>\n",
       "    <tr style=\"text-align: right;\">\n",
       "      <th></th>\n",
       "      <th>Highest_Charting_Position</th>\n",
       "      <th>Number_Of_Times_Charted</th>\n",
       "      <th>Week_Of_Highest_Charting</th>\n",
       "      <th>Song_Name</th>\n",
       "      <th>Streams</th>\n",
       "      <th>Artist</th>\n",
       "      <th>Artist_Followers</th>\n",
       "      <th>Song_Id</th>\n",
       "      <th>Genre</th>\n",
       "      <th>Release_Date</th>\n",
       "      <th>Weeks_Charted</th>\n",
       "      <th>Popularity</th>\n",
       "      <th>Danceability</th>\n",
       "      <th>Energy</th>\n",
       "      <th>Loudness</th>\n",
       "      <th>Speechiness</th>\n",
       "      <th>Acousticness</th>\n",
       "      <th>Liveness</th>\n",
       "      <th>Tempo</th>\n",
       "      <th>Duration_(Ms)</th>\n",
       "      <th>Valence</th>\n",
       "      <th>Chord</th>\n",
       "      <th>Gender</th>\n",
       "      <th>Age</th>\n",
       "      <th>Type</th>\n",
       "      <th>Country</th>\n",
       "      <th>Genre2</th>\n",
       "      <th>Genre1</th>\n",
       "      <th>Genre_Gen</th>\n",
       "      <th>Month_Highest_Charting</th>\n",
       "      <th>Season_Highest_Charting</th>\n",
       "      <th>Year_Highest_Charting</th>\n",
       "    </tr>\n",
       "  </thead>\n",
       "  <tbody>\n",
       "    <tr>\n",
       "      <th>0</th>\n",
       "      <td>1</td>\n",
       "      <td>8</td>\n",
       "      <td>2021-07-23</td>\n",
       "      <td>Beggin'</td>\n",
       "      <td>48,633,449</td>\n",
       "      <td>Måneskin</td>\n",
       "      <td>3377762</td>\n",
       "      <td>3Wrjm47oTz2sjIgck11l5e</td>\n",
       "      <td>[\"['indie rock italiano'\", \" 'italian pop']\"]</td>\n",
       "      <td>2017-12-08</td>\n",
       "      <td>2021-07-23--2021-07-30\\n2021-07-16--2021-07-23...</td>\n",
       "      <td>100.0</td>\n",
       "      <td>0.714</td>\n",
       "      <td>0.8</td>\n",
       "      <td>-4.808</td>\n",
       "      <td>0.0504</td>\n",
       "      <td>0.127</td>\n",
       "      <td>0.359</td>\n",
       "      <td>134.002</td>\n",
       "      <td>211560.0</td>\n",
       "      <td>0.589</td>\n",
       "      <td>B</td>\n",
       "      <td>mixed</td>\n",
       "      <td>4</td>\n",
       "      <td>group</td>\n",
       "      <td>NaN</td>\n",
       "      <td>italian pop</td>\n",
       "      <td>indie rock italiano</td>\n",
       "      <td>rock</td>\n",
       "      <td>July</td>\n",
       "      <td>Summer</td>\n",
       "      <td>2021</td>\n",
       "    </tr>\n",
       "  </tbody>\n",
       "</table>\n",
       "</div>"
      ],
      "text/plain": [
       "   Highest_Charting_Position  Number_Of_Times_Charted  \\\n",
       "0                          1                        8   \n",
       "\n",
       "  Week_Of_Highest_Charting Song_Name     Streams    Artist Artist_Followers  \\\n",
       "0               2021-07-23   Beggin'  48,633,449  Måneskin          3377762   \n",
       "\n",
       "                  Song_Id                                          Genre  \\\n",
       "0  3Wrjm47oTz2sjIgck11l5e  [\"['indie rock italiano'\", \" 'italian pop']\"]   \n",
       "\n",
       "  Release_Date                                      Weeks_Charted  Popularity  \\\n",
       "0   2017-12-08  2021-07-23--2021-07-30\\n2021-07-16--2021-07-23...       100.0   \n",
       "\n",
       "   Danceability  Energy  Loudness  Speechiness  Acousticness  Liveness  \\\n",
       "0         0.714     0.8    -4.808       0.0504         0.127     0.359   \n",
       "\n",
       "     Tempo  Duration_(Ms)  Valence Chord Gender  Age   Type Country  \\\n",
       "0  134.002       211560.0    0.589     B  mixed    4  group     NaN   \n",
       "\n",
       "        Genre2               Genre1 Genre_Gen Month_Highest_Charting  \\\n",
       "0  italian pop  indie rock italiano      rock                   July   \n",
       "\n",
       "  Season_Highest_Charting  Year_Highest_Charting  \n",
       "0                  Summer                   2021  "
      ]
     },
     "execution_count": 87,
     "metadata": {},
     "output_type": "execute_result"
    }
   ],
   "source": [
    "df.head(1)"
   ]
  },
  {
   "cell_type": "markdown",
   "id": "50225bd8",
   "metadata": {},
   "source": [
    "### 2.3.4 Country"
   ]
  },
  {
   "cell_type": "code",
   "execution_count": 88,
   "id": "a36fd7ee",
   "metadata": {},
   "outputs": [],
   "source": [
    "null = df[\"Country\"].isnull()\n",
    "df_null = df.loc[null, :]"
   ]
  },
  {
   "cell_type": "code",
   "execution_count": 89,
   "id": "7030d8e1",
   "metadata": {},
   "outputs": [
    {
     "data": {
      "text/plain": [
       "65"
      ]
     },
     "execution_count": 89,
     "metadata": {},
     "output_type": "execute_result"
    }
   ],
   "source": [
    "artists=df_null[\"Artist\"].unique().tolist()\n",
    "len(artists)"
   ]
  },
  {
   "cell_type": "code",
   "execution_count": 92,
   "id": "99a4f0f9",
   "metadata": {},
   "outputs": [],
   "source": [
    "import requests #i will do webscraping to reduce nulls"
   ]
  },
  {
   "cell_type": "code",
   "execution_count": 93,
   "id": "a7d162d3",
   "metadata": {},
   "outputs": [],
   "source": [
    "from time import sleep\n",
    "import numpy as np\n",
    "from selenium import webdriver\n",
    "from webdriver_manager.chrome import ChromeDriverManager\n",
    "from selenium.webdriver.common.keys import Keys\n",
    "from selenium.webdriver.chrome.options import Options\n",
    "import warnings\n",
    "warnings.filterwarnings('ignore')\n",
    "\n",
    "opciones= Options()\n",
    "opciones.add_experimental_option('excludeSwitches', ['enable-automation'])\n",
    "#para ocultarme como robot\n",
    "opciones.add_experimental_option('useAutomationExtension', False)\n",
    "opciones.add_argument('--start-maximized') #empezar maximizado\n",
    "opciones.add_argument('user.data-dir=selenium') #guarda las cookies\n",
    "opciones.add_argument('--incognito')#incognito window"
   ]
  },
  {
   "cell_type": "code",
   "execution_count": 94,
   "id": "88a69c3a",
   "metadata": {},
   "outputs": [
    {
     "name": "stderr",
     "output_type": "stream",
     "text": [
      "[WDM] - Downloading: 100%|████████████████████████████████████████████████████████| 6.58M/6.58M [00:02<00:00, 2.93MB/s]\n"
     ]
    }
   ],
   "source": [
    "driver = webdriver.Chrome(ChromeDriverManager().install())\n",
    "dict_artist={\"name\":[], \"country\":[]}\n",
    "for artist in artists:\n",
    "    driver.get(\"https://musicbrainz.org/\")\n",
    "    driver.implicitly_wait(10)\n",
    "    driver.find_element(\"css selector\", \"#headerid-query\").send_keys(f\"{artist}\", Keys.TAB)\n",
    "    sleep(3)\n",
    "    driver.find_element(\"css selector\", \"body > div.header > div > div.top > div.search-container > form > button > img\").click()\n",
    "    sleep(3)\n",
    "    dict_artist[\"name\"].append(artist)\n",
    "    try:\n",
    "        dict_artist[\"country\"].append(driver.find_element(\"css selector\", \"#content > table > tbody > tr > td:nth-child(5) > a > bdi\").text)\n",
    "    except:\n",
    "        dict_artist[\"country\"].append(np.nan)"
   ]
  },
  {
   "cell_type": "code",
   "execution_count": 95,
   "id": "2279da00",
   "metadata": {},
   "outputs": [],
   "source": [
    "df_country=pd.DataFrame(dict_artist)"
   ]
  },
  {
   "cell_type": "code",
   "execution_count": 97,
   "id": "bcbb9180",
   "metadata": {},
   "outputs": [
    {
     "data": {
      "text/html": [
       "<div>\n",
       "<style scoped>\n",
       "    .dataframe tbody tr th:only-of-type {\n",
       "        vertical-align: middle;\n",
       "    }\n",
       "\n",
       "    .dataframe tbody tr th {\n",
       "        vertical-align: top;\n",
       "    }\n",
       "\n",
       "    .dataframe thead th {\n",
       "        text-align: right;\n",
       "    }\n",
       "</style>\n",
       "<table border=\"1\" class=\"dataframe\">\n",
       "  <thead>\n",
       "    <tr style=\"text-align: right;\">\n",
       "      <th></th>\n",
       "      <th>name</th>\n",
       "      <th>country</th>\n",
       "    </tr>\n",
       "  </thead>\n",
       "  <tbody>\n",
       "    <tr>\n",
       "      <th>0</th>\n",
       "      <td>Måneskin</td>\n",
       "      <td>Italy</td>\n",
       "    </tr>\n",
       "    <tr>\n",
       "      <th>1</th>\n",
       "      <td>Lil Nas X</td>\n",
       "      <td>United States</td>\n",
       "    </tr>\n",
       "    <tr>\n",
       "      <th>2</th>\n",
       "      <td>24kGoldn</td>\n",
       "      <td>United States</td>\n",
       "    </tr>\n",
       "    <tr>\n",
       "      <th>3</th>\n",
       "      <td>Megan Thee Stallion</td>\n",
       "      <td>United States</td>\n",
       "    </tr>\n",
       "    <tr>\n",
       "      <th>4</th>\n",
       "      <td>Giveon</td>\n",
       "      <td>United States</td>\n",
       "    </tr>\n",
       "  </tbody>\n",
       "</table>\n",
       "</div>"
      ],
      "text/plain": [
       "                  name        country\n",
       "0             Måneskin          Italy\n",
       "1            Lil Nas X  United States\n",
       "2             24kGoldn  United States\n",
       "3  Megan Thee Stallion  United States\n",
       "4               Giveon  United States"
      ]
     },
     "execution_count": 97,
     "metadata": {},
     "output_type": "execute_result"
    }
   ],
   "source": [
    "df_country.head()"
   ]
  },
  {
   "cell_type": "code",
   "execution_count": 98,
   "id": "6263495a",
   "metadata": {},
   "outputs": [],
   "source": [
    "df.to_csv(\"../data/df_spotify_WScountry.csv\")"
   ]
  },
  {
   "cell_type": "code",
   "execution_count": 99,
   "id": "5c6a2282",
   "metadata": {},
   "outputs": [
    {
     "data": {
      "text/plain": [
       "array(['Italy', 'United States', 'New York', 'London', 'Goiás',\n",
       "       'Barranquilla', 'Marseille', 'Berlin', 'Germany', 'Liverpool',\n",
       "       'Jakarta', 'Canada', 'Los Angeles', 'Nashville', 'Eau Claire', nan,\n",
       "       'Brazil', 'Sweden', 'Spain', 'France', 'Chicago', 'Austria',\n",
       "       'Toronto', 'United Kingdom', 'Florida', 'Berkeley', 'Hamburg',\n",
       "       'England'], dtype=object)"
      ]
     },
     "execution_count": 99,
     "metadata": {},
     "output_type": "execute_result"
    }
   ],
   "source": [
    "df_country[\"country\"].unique() "
   ]
  },
  {
   "cell_type": "code",
   "execution_count": 100,
   "id": "58ee1e40",
   "metadata": {},
   "outputs": [
    {
     "data": {
      "text/plain": [
       "4"
      ]
     },
     "execution_count": 100,
     "metadata": {},
     "output_type": "execute_result"
    }
   ],
   "source": [
    "df_country[\"country\"].isnull().sum() #less nulls"
   ]
  },
  {
   "cell_type": "code",
   "execution_count": 101,
   "id": "06d177be",
   "metadata": {},
   "outputs": [],
   "source": [
    "dict_country={'Italy':\"IT\",\n",
    "\"Brazil\": \"BR\",\n",
    "'United States':\"US\",\n",
    "'New York':\"US\",\n",
    "'London': \"GB\",\n",
    "\"Goiás\":\"BR\",\n",
    "'Barranquilla':\"CO\",\n",
    "'Marseille': \"FR\",\n",
    "'Berlin': \"DE\",\n",
    "'Germany':\"DE\",\n",
    "'Liverpool': \"GB\",\n",
    "'Jakarta': \"ID\",\n",
    "'Canada': \"CA\",\n",
    "'Los Angeles': \"US\",\n",
    "'Nashville':\"US\",\n",
    "'Eau Claire':\"US\",\n",
    "'Sweden':\"SE\",\n",
    "'Spain':\"ES\",\n",
    "'France': \"FR\",\n",
    "'Chicago': \"US\",\n",
    "'Austria': \"AT\",\n",
    "'Toronto': \"CA\",\n",
    "'United Kingdom': \"GB\",\n",
    "'Florida':\"US\",\n",
    "'Berkeley':\"US\",\n",
    "'Hamburg':\"DE\",\n",
    "'England':\"GB\"}"
   ]
  },
  {
   "cell_type": "code",
   "execution_count": 102,
   "id": "acc10f65",
   "metadata": {},
   "outputs": [],
   "source": [
    "df_country['country1'] = df_country['country'].map(dict_country)"
   ]
  },
  {
   "cell_type": "code",
   "execution_count": 103,
   "id": "c3baee03",
   "metadata": {},
   "outputs": [
    {
     "data": {
      "text/html": [
       "<div>\n",
       "<style scoped>\n",
       "    .dataframe tbody tr th:only-of-type {\n",
       "        vertical-align: middle;\n",
       "    }\n",
       "\n",
       "    .dataframe tbody tr th {\n",
       "        vertical-align: top;\n",
       "    }\n",
       "\n",
       "    .dataframe thead th {\n",
       "        text-align: right;\n",
       "    }\n",
       "</style>\n",
       "<table border=\"1\" class=\"dataframe\">\n",
       "  <thead>\n",
       "    <tr style=\"text-align: right;\">\n",
       "      <th></th>\n",
       "      <th>name</th>\n",
       "      <th>country</th>\n",
       "      <th>country1</th>\n",
       "    </tr>\n",
       "  </thead>\n",
       "  <tbody>\n",
       "    <tr>\n",
       "      <th>0</th>\n",
       "      <td>Måneskin</td>\n",
       "      <td>Italy</td>\n",
       "      <td>IT</td>\n",
       "    </tr>\n",
       "    <tr>\n",
       "      <th>1</th>\n",
       "      <td>Lil Nas X</td>\n",
       "      <td>United States</td>\n",
       "      <td>US</td>\n",
       "    </tr>\n",
       "    <tr>\n",
       "      <th>2</th>\n",
       "      <td>24kGoldn</td>\n",
       "      <td>United States</td>\n",
       "      <td>US</td>\n",
       "    </tr>\n",
       "    <tr>\n",
       "      <th>3</th>\n",
       "      <td>Megan Thee Stallion</td>\n",
       "      <td>United States</td>\n",
       "      <td>US</td>\n",
       "    </tr>\n",
       "    <tr>\n",
       "      <th>4</th>\n",
       "      <td>Giveon</td>\n",
       "      <td>United States</td>\n",
       "      <td>US</td>\n",
       "    </tr>\n",
       "  </tbody>\n",
       "</table>\n",
       "</div>"
      ],
      "text/plain": [
       "                  name        country country1\n",
       "0             Måneskin          Italy       IT\n",
       "1            Lil Nas X  United States       US\n",
       "2             24kGoldn  United States       US\n",
       "3  Megan Thee Stallion  United States       US\n",
       "4               Giveon  United States       US"
      ]
     },
     "execution_count": 103,
     "metadata": {},
     "output_type": "execute_result"
    }
   ],
   "source": [
    "df_country.head(5)"
   ]
  },
  {
   "cell_type": "code",
   "execution_count": 104,
   "id": "86938527",
   "metadata": {},
   "outputs": [],
   "source": [
    "df=df.merge(df_country, left_on= \"Artist\", right_on=\"name\", how=\"left\")"
   ]
  },
  {
   "cell_type": "code",
   "execution_count": 105,
   "id": "d27fb26a",
   "metadata": {},
   "outputs": [],
   "source": [
    "df.loc[df['Artist'].isin(df['name']), 'Country'] = df['country1']"
   ]
  },
  {
   "cell_type": "code",
   "execution_count": 106,
   "id": "74443943",
   "metadata": {},
   "outputs": [
    {
     "data": {
      "text/plain": [
       "4"
      ]
     },
     "execution_count": 106,
     "metadata": {},
     "output_type": "execute_result"
    }
   ],
   "source": [
    "df[\"Country\"].isnull().sum() #muchos menos"
   ]
  },
  {
   "cell_type": "code",
   "execution_count": 107,
   "id": "863bc18b",
   "metadata": {},
   "outputs": [],
   "source": [
    "x=df_country.columns\n",
    "df.drop(x, axis = 1, inplace=True)"
   ]
  },
  {
   "cell_type": "code",
   "execution_count": 108,
   "id": "3e2ea61d",
   "metadata": {},
   "outputs": [
    {
     "data": {
      "text/html": [
       "<div>\n",
       "<style scoped>\n",
       "    .dataframe tbody tr th:only-of-type {\n",
       "        vertical-align: middle;\n",
       "    }\n",
       "\n",
       "    .dataframe tbody tr th {\n",
       "        vertical-align: top;\n",
       "    }\n",
       "\n",
       "    .dataframe thead th {\n",
       "        text-align: right;\n",
       "    }\n",
       "</style>\n",
       "<table border=\"1\" class=\"dataframe\">\n",
       "  <thead>\n",
       "    <tr style=\"text-align: right;\">\n",
       "      <th></th>\n",
       "      <th>Highest_Charting_Position</th>\n",
       "      <th>Number_Of_Times_Charted</th>\n",
       "      <th>Week_Of_Highest_Charting</th>\n",
       "      <th>Song_Name</th>\n",
       "      <th>Streams</th>\n",
       "      <th>Artist</th>\n",
       "      <th>Artist_Followers</th>\n",
       "      <th>Song_Id</th>\n",
       "      <th>Genre</th>\n",
       "      <th>Release_Date</th>\n",
       "      <th>Weeks_Charted</th>\n",
       "      <th>Popularity</th>\n",
       "      <th>Danceability</th>\n",
       "      <th>Energy</th>\n",
       "      <th>Loudness</th>\n",
       "      <th>Speechiness</th>\n",
       "      <th>Acousticness</th>\n",
       "      <th>Liveness</th>\n",
       "      <th>Tempo</th>\n",
       "      <th>Duration_(Ms)</th>\n",
       "      <th>Valence</th>\n",
       "      <th>Chord</th>\n",
       "      <th>Gender</th>\n",
       "      <th>Age</th>\n",
       "      <th>Type</th>\n",
       "      <th>Country</th>\n",
       "      <th>Genre2</th>\n",
       "      <th>Genre1</th>\n",
       "      <th>Genre_Gen</th>\n",
       "      <th>Month_Highest_Charting</th>\n",
       "      <th>Season_Highest_Charting</th>\n",
       "      <th>Year_Highest_Charting</th>\n",
       "    </tr>\n",
       "  </thead>\n",
       "  <tbody>\n",
       "    <tr>\n",
       "      <th>0</th>\n",
       "      <td>1</td>\n",
       "      <td>8</td>\n",
       "      <td>2021-07-23</td>\n",
       "      <td>Beggin'</td>\n",
       "      <td>48,633,449</td>\n",
       "      <td>Måneskin</td>\n",
       "      <td>3377762</td>\n",
       "      <td>3Wrjm47oTz2sjIgck11l5e</td>\n",
       "      <td>[\"['indie rock italiano'\", \" 'italian pop']\"]</td>\n",
       "      <td>2017-12-08</td>\n",
       "      <td>2021-07-23--2021-07-30\\n2021-07-16--2021-07-23...</td>\n",
       "      <td>100.0</td>\n",
       "      <td>0.714</td>\n",
       "      <td>0.800</td>\n",
       "      <td>-4.808</td>\n",
       "      <td>0.0504</td>\n",
       "      <td>0.12700</td>\n",
       "      <td>0.359</td>\n",
       "      <td>134.002</td>\n",
       "      <td>211560.0</td>\n",
       "      <td>0.589</td>\n",
       "      <td>B</td>\n",
       "      <td>mixed</td>\n",
       "      <td>4</td>\n",
       "      <td>group</td>\n",
       "      <td>IT</td>\n",
       "      <td>italian pop</td>\n",
       "      <td>indie rock italiano</td>\n",
       "      <td>rock</td>\n",
       "      <td>July</td>\n",
       "      <td>Summer</td>\n",
       "      <td>2021</td>\n",
       "    </tr>\n",
       "    <tr>\n",
       "      <th>1</th>\n",
       "      <td>8</td>\n",
       "      <td>10</td>\n",
       "      <td>2021-07-02</td>\n",
       "      <td>I WANNA BE YOUR SLAVE</td>\n",
       "      <td>24,551,591</td>\n",
       "      <td>Måneskin</td>\n",
       "      <td>3377762</td>\n",
       "      <td>4pt5fDVTg5GhEvEtlz9dKk</td>\n",
       "      <td>[\"['indie rock italiano'\", \" 'italian pop']\"]</td>\n",
       "      <td>2021-03-19</td>\n",
       "      <td>2021-07-23--2021-07-30\\n2021-07-16--2021-07-23...</td>\n",
       "      <td>95.0</td>\n",
       "      <td>0.750</td>\n",
       "      <td>0.608</td>\n",
       "      <td>-4.008</td>\n",
       "      <td>0.0387</td>\n",
       "      <td>0.00165</td>\n",
       "      <td>0.178</td>\n",
       "      <td>132.507</td>\n",
       "      <td>173347.0</td>\n",
       "      <td>0.958</td>\n",
       "      <td>C#/Db</td>\n",
       "      <td>mixed</td>\n",
       "      <td>4</td>\n",
       "      <td>group</td>\n",
       "      <td>IT</td>\n",
       "      <td>italian pop</td>\n",
       "      <td>indie rock italiano</td>\n",
       "      <td>rock</td>\n",
       "      <td>July</td>\n",
       "      <td>Summer</td>\n",
       "      <td>2021</td>\n",
       "    </tr>\n",
       "    <tr>\n",
       "      <th>2</th>\n",
       "      <td>12</td>\n",
       "      <td>11</td>\n",
       "      <td>2021-05-28</td>\n",
       "      <td>ZITTI E BUONI</td>\n",
       "      <td>7,975,148</td>\n",
       "      <td>Måneskin</td>\n",
       "      <td>3377762</td>\n",
       "      <td>776AftMmFFAWUIEAb3lHhw</td>\n",
       "      <td>[\"['indie rock italiano'\", \" 'italian pop']\"]</td>\n",
       "      <td>2021-03-19</td>\n",
       "      <td>2021-07-23--2021-07-30\\n2021-07-16--2021-07-23...</td>\n",
       "      <td>86.0</td>\n",
       "      <td>0.625</td>\n",
       "      <td>0.939</td>\n",
       "      <td>-3.115</td>\n",
       "      <td>0.0669</td>\n",
       "      <td>0.00138</td>\n",
       "      <td>0.424</td>\n",
       "      <td>102.999</td>\n",
       "      <td>194787.0</td>\n",
       "      <td>0.644</td>\n",
       "      <td>E</td>\n",
       "      <td>mixed</td>\n",
       "      <td>4</td>\n",
       "      <td>group</td>\n",
       "      <td>IT</td>\n",
       "      <td>italian pop</td>\n",
       "      <td>indie rock italiano</td>\n",
       "      <td>rock</td>\n",
       "      <td>May</td>\n",
       "      <td>Spring</td>\n",
       "      <td>2021</td>\n",
       "    </tr>\n",
       "    <tr>\n",
       "      <th>3</th>\n",
       "      <td>127</td>\n",
       "      <td>2</td>\n",
       "      <td>2021-05-28</td>\n",
       "      <td>CORALINE</td>\n",
       "      <td>5,241,813</td>\n",
       "      <td>Måneskin</td>\n",
       "      <td>3377762</td>\n",
       "      <td>7HMz8o0m7ASQ3ImFPfhWTY</td>\n",
       "      <td>[\"['indie rock italiano'\", \" 'italian pop']\"]</td>\n",
       "      <td>2021-03-19</td>\n",
       "      <td>2021-06-04--2021-06-11\\n2021-05-28--2021-06-04</td>\n",
       "      <td>81.0</td>\n",
       "      <td>0.363</td>\n",
       "      <td>0.678</td>\n",
       "      <td>-4.939</td>\n",
       "      <td>0.0995</td>\n",
       "      <td>0.02990</td>\n",
       "      <td>0.324</td>\n",
       "      <td>162.124</td>\n",
       "      <td>300413.0</td>\n",
       "      <td>0.321</td>\n",
       "      <td>D</td>\n",
       "      <td>mixed</td>\n",
       "      <td>4</td>\n",
       "      <td>group</td>\n",
       "      <td>IT</td>\n",
       "      <td>italian pop</td>\n",
       "      <td>indie rock italiano</td>\n",
       "      <td>rock</td>\n",
       "      <td>May</td>\n",
       "      <td>Spring</td>\n",
       "      <td>2021</td>\n",
       "    </tr>\n",
       "    <tr>\n",
       "      <th>4</th>\n",
       "      <td>2</td>\n",
       "      <td>3</td>\n",
       "      <td>2021-07-23</td>\n",
       "      <td>STAY (with Justin Bieber)</td>\n",
       "      <td>47,248,719</td>\n",
       "      <td>The Kid LAROI</td>\n",
       "      <td>2230022</td>\n",
       "      <td>5HCyWlXZPP0y6Gqq8TgA20</td>\n",
       "      <td>[\"['australian hip hop']\"]</td>\n",
       "      <td>2021-07-09</td>\n",
       "      <td>2021-07-23--2021-07-30\\n2021-07-16--2021-07-23...</td>\n",
       "      <td>99.0</td>\n",
       "      <td>0.591</td>\n",
       "      <td>0.764</td>\n",
       "      <td>-5.484</td>\n",
       "      <td>0.0483</td>\n",
       "      <td>0.03830</td>\n",
       "      <td>0.103</td>\n",
       "      <td>169.928</td>\n",
       "      <td>141806.0</td>\n",
       "      <td>0.478</td>\n",
       "      <td>C#/Db</td>\n",
       "      <td>male</td>\n",
       "      <td>16</td>\n",
       "      <td>person</td>\n",
       "      <td>AU</td>\n",
       "      <td>NaN</td>\n",
       "      <td>australian hip hop</td>\n",
       "      <td>hip hop</td>\n",
       "      <td>July</td>\n",
       "      <td>Summer</td>\n",
       "      <td>2021</td>\n",
       "    </tr>\n",
       "  </tbody>\n",
       "</table>\n",
       "</div>"
      ],
      "text/plain": [
       "   Highest_Charting_Position  Number_Of_Times_Charted  \\\n",
       "0                          1                        8   \n",
       "1                          8                       10   \n",
       "2                         12                       11   \n",
       "3                        127                        2   \n",
       "4                          2                        3   \n",
       "\n",
       "  Week_Of_Highest_Charting                  Song_Name     Streams  \\\n",
       "0               2021-07-23                    Beggin'  48,633,449   \n",
       "1               2021-07-02      I WANNA BE YOUR SLAVE  24,551,591   \n",
       "2               2021-05-28              ZITTI E BUONI   7,975,148   \n",
       "3               2021-05-28                   CORALINE   5,241,813   \n",
       "4               2021-07-23  STAY (with Justin Bieber)  47,248,719   \n",
       "\n",
       "          Artist Artist_Followers                 Song_Id  \\\n",
       "0       Måneskin          3377762  3Wrjm47oTz2sjIgck11l5e   \n",
       "1       Måneskin          3377762  4pt5fDVTg5GhEvEtlz9dKk   \n",
       "2       Måneskin          3377762  776AftMmFFAWUIEAb3lHhw   \n",
       "3       Måneskin          3377762  7HMz8o0m7ASQ3ImFPfhWTY   \n",
       "4  The Kid LAROI          2230022  5HCyWlXZPP0y6Gqq8TgA20   \n",
       "\n",
       "                                           Genre Release_Date  \\\n",
       "0  [\"['indie rock italiano'\", \" 'italian pop']\"]   2017-12-08   \n",
       "1  [\"['indie rock italiano'\", \" 'italian pop']\"]   2021-03-19   \n",
       "2  [\"['indie rock italiano'\", \" 'italian pop']\"]   2021-03-19   \n",
       "3  [\"['indie rock italiano'\", \" 'italian pop']\"]   2021-03-19   \n",
       "4                     [\"['australian hip hop']\"]   2021-07-09   \n",
       "\n",
       "                                       Weeks_Charted  Popularity  \\\n",
       "0  2021-07-23--2021-07-30\\n2021-07-16--2021-07-23...       100.0   \n",
       "1  2021-07-23--2021-07-30\\n2021-07-16--2021-07-23...        95.0   \n",
       "2  2021-07-23--2021-07-30\\n2021-07-16--2021-07-23...        86.0   \n",
       "3     2021-06-04--2021-06-11\\n2021-05-28--2021-06-04        81.0   \n",
       "4  2021-07-23--2021-07-30\\n2021-07-16--2021-07-23...        99.0   \n",
       "\n",
       "   Danceability  Energy  Loudness  Speechiness  Acousticness  Liveness  \\\n",
       "0         0.714   0.800    -4.808       0.0504       0.12700     0.359   \n",
       "1         0.750   0.608    -4.008       0.0387       0.00165     0.178   \n",
       "2         0.625   0.939    -3.115       0.0669       0.00138     0.424   \n",
       "3         0.363   0.678    -4.939       0.0995       0.02990     0.324   \n",
       "4         0.591   0.764    -5.484       0.0483       0.03830     0.103   \n",
       "\n",
       "     Tempo  Duration_(Ms)  Valence  Chord Gender  Age    Type Country  \\\n",
       "0  134.002       211560.0    0.589      B  mixed    4   group      IT   \n",
       "1  132.507       173347.0    0.958  C#/Db  mixed    4   group      IT   \n",
       "2  102.999       194787.0    0.644      E  mixed    4   group      IT   \n",
       "3  162.124       300413.0    0.321      D  mixed    4   group      IT   \n",
       "4  169.928       141806.0    0.478  C#/Db   male   16  person      AU   \n",
       "\n",
       "        Genre2               Genre1 Genre_Gen Month_Highest_Charting  \\\n",
       "0  italian pop  indie rock italiano      rock                   July   \n",
       "1  italian pop  indie rock italiano      rock                   July   \n",
       "2  italian pop  indie rock italiano      rock                    May   \n",
       "3  italian pop  indie rock italiano      rock                    May   \n",
       "4          NaN   australian hip hop   hip hop                   July   \n",
       "\n",
       "  Season_Highest_Charting  Year_Highest_Charting  \n",
       "0                  Summer                   2021  \n",
       "1                  Summer                   2021  \n",
       "2                  Spring                   2021  \n",
       "3                  Spring                   2021  \n",
       "4                  Summer                   2021  "
      ]
     },
     "execution_count": 108,
     "metadata": {},
     "output_type": "execute_result"
    }
   ],
   "source": [
    "df.head()"
   ]
  },
  {
   "cell_type": "code",
   "execution_count": 109,
   "id": "55b8a709",
   "metadata": {},
   "outputs": [],
   "source": [
    "df.to_csv(\"../data/df_spotify5.csv\")"
   ]
  },
  {
   "cell_type": "code",
   "execution_count": 110,
   "id": "2c20b953",
   "metadata": {},
   "outputs": [],
   "source": [
    "df=pd.read_csv(\"../data/df_spotify5.csv\", index_col = 0 )"
   ]
  },
  {
   "cell_type": "code",
   "execution_count": 111,
   "id": "1db8bdbc",
   "metadata": {},
   "outputs": [
    {
     "data": {
      "text/html": [
       "<div>\n",
       "<style scoped>\n",
       "    .dataframe tbody tr th:only-of-type {\n",
       "        vertical-align: middle;\n",
       "    }\n",
       "\n",
       "    .dataframe tbody tr th {\n",
       "        vertical-align: top;\n",
       "    }\n",
       "\n",
       "    .dataframe thead th {\n",
       "        text-align: right;\n",
       "    }\n",
       "</style>\n",
       "<table border=\"1\" class=\"dataframe\">\n",
       "  <thead>\n",
       "    <tr style=\"text-align: right;\">\n",
       "      <th></th>\n",
       "      <th>Highest_Charting_Position</th>\n",
       "      <th>Number_Of_Times_Charted</th>\n",
       "      <th>Week_Of_Highest_Charting</th>\n",
       "      <th>Song_Name</th>\n",
       "      <th>Streams</th>\n",
       "      <th>Artist</th>\n",
       "      <th>Artist_Followers</th>\n",
       "      <th>Song_Id</th>\n",
       "      <th>Genre</th>\n",
       "      <th>Release_Date</th>\n",
       "      <th>Weeks_Charted</th>\n",
       "      <th>Popularity</th>\n",
       "      <th>Danceability</th>\n",
       "      <th>Energy</th>\n",
       "      <th>Loudness</th>\n",
       "      <th>Speechiness</th>\n",
       "      <th>Acousticness</th>\n",
       "      <th>Liveness</th>\n",
       "      <th>Tempo</th>\n",
       "      <th>Duration_(Ms)</th>\n",
       "      <th>Valence</th>\n",
       "      <th>Chord</th>\n",
       "      <th>Gender</th>\n",
       "      <th>Age</th>\n",
       "      <th>Type</th>\n",
       "      <th>Country</th>\n",
       "      <th>Genre2</th>\n",
       "      <th>Genre1</th>\n",
       "      <th>Genre_Gen</th>\n",
       "      <th>Month_Highest_Charting</th>\n",
       "      <th>Season_Highest_Charting</th>\n",
       "      <th>Year_Highest_Charting</th>\n",
       "    </tr>\n",
       "  </thead>\n",
       "  <tbody>\n",
       "    <tr>\n",
       "      <th>0</th>\n",
       "      <td>1</td>\n",
       "      <td>8</td>\n",
       "      <td>2021-07-23</td>\n",
       "      <td>Beggin'</td>\n",
       "      <td>48,633,449</td>\n",
       "      <td>Måneskin</td>\n",
       "      <td>3377762</td>\n",
       "      <td>3Wrjm47oTz2sjIgck11l5e</td>\n",
       "      <td>[\"['indie rock italiano'\", \" 'italian pop']\"]</td>\n",
       "      <td>2017-12-08</td>\n",
       "      <td>2021-07-23--2021-07-30\\n2021-07-16--2021-07-23...</td>\n",
       "      <td>100.0</td>\n",
       "      <td>0.714</td>\n",
       "      <td>0.8</td>\n",
       "      <td>-4.808</td>\n",
       "      <td>0.0504</td>\n",
       "      <td>0.127</td>\n",
       "      <td>0.359</td>\n",
       "      <td>134.002</td>\n",
       "      <td>211560.0</td>\n",
       "      <td>0.589</td>\n",
       "      <td>B</td>\n",
       "      <td>mixed</td>\n",
       "      <td>4</td>\n",
       "      <td>group</td>\n",
       "      <td>IT</td>\n",
       "      <td>italian pop</td>\n",
       "      <td>indie rock italiano</td>\n",
       "      <td>rock</td>\n",
       "      <td>July</td>\n",
       "      <td>Summer</td>\n",
       "      <td>2021</td>\n",
       "    </tr>\n",
       "  </tbody>\n",
       "</table>\n",
       "</div>"
      ],
      "text/plain": [
       "   Highest_Charting_Position  Number_Of_Times_Charted  \\\n",
       "0                          1                        8   \n",
       "\n",
       "  Week_Of_Highest_Charting Song_Name     Streams    Artist Artist_Followers  \\\n",
       "0               2021-07-23   Beggin'  48,633,449  Måneskin          3377762   \n",
       "\n",
       "                  Song_Id                                          Genre  \\\n",
       "0  3Wrjm47oTz2sjIgck11l5e  [\"['indie rock italiano'\", \" 'italian pop']\"]   \n",
       "\n",
       "  Release_Date                                      Weeks_Charted  Popularity  \\\n",
       "0   2017-12-08  2021-07-23--2021-07-30\\n2021-07-16--2021-07-23...       100.0   \n",
       "\n",
       "   Danceability  Energy  Loudness  Speechiness  Acousticness  Liveness  \\\n",
       "0         0.714     0.8    -4.808       0.0504         0.127     0.359   \n",
       "\n",
       "     Tempo  Duration_(Ms)  Valence Chord Gender  Age   Type Country  \\\n",
       "0  134.002       211560.0    0.589     B  mixed    4  group      IT   \n",
       "\n",
       "        Genre2               Genre1 Genre_Gen Month_Highest_Charting  \\\n",
       "0  italian pop  indie rock italiano      rock                   July   \n",
       "\n",
       "  Season_Highest_Charting  Year_Highest_Charting  \n",
       "0                  Summer                   2021  "
      ]
     },
     "execution_count": 111,
     "metadata": {},
     "output_type": "execute_result"
    }
   ],
   "source": [
    "df.head(1)"
   ]
  },
  {
   "cell_type": "markdown",
   "id": "97ad3da8",
   "metadata": {},
   "source": [
    "### 2.3.5 Artist Age and Song Decade"
   ]
  },
  {
   "cell_type": "code",
   "execution_count": 19,
   "id": "b2d02921",
   "metadata": {},
   "outputs": [],
   "source": [
    "df=sp.abrir_csv(\"../data/df_spotify5.csv\")"
   ]
  },
  {
   "cell_type": "code",
   "execution_count": 8,
   "id": "a58782eb",
   "metadata": {},
   "outputs": [
    {
     "data": {
      "text/plain": [
       "array([ 4, 16, 17, 29, 21, 24,  0, 26,  7, 30, 10, 25, 23, 51,  8, 18, 28,\n",
       "       33, 27, 92, 12, 34, 36, 32, 22, 50, 20, 19, 43, 53, 40, 41, 47, 42,\n",
       "       44, 35, 11, 37,  1, 15,  5, 49, 13,  3, 39, 75, 63, 84, 38, 74, 78,\n",
       "       82, 61, 69, 45, 85, 72, 90, 54, 52, 79, 73, 70, 59,  9, 94, 83, 31,\n",
       "       46, 55, 67], dtype=int64)"
      ]
     },
     "execution_count": 8,
     "metadata": {},
     "output_type": "execute_result"
    }
   ],
   "source": [
    "df[\"Age\"].unique() "
   ]
  },
  {
   "cell_type": "code",
   "execution_count": 9,
   "id": "aa96a905",
   "metadata": {},
   "outputs": [],
   "source": [
    "def generation_2022(edad):\n",
    "    if edad < 25:\n",
    "        return \"Generation Z\"\n",
    "    elif edad < 40:\n",
    "        return \"Millennial\"\n",
    "    elif edad < 60:\n",
    "        return \"Generation X\"\n",
    "    elif edad < 80:\n",
    "        return \"Baby Boomer\"\n",
    "    else:\n",
    "        return \"Silent\""
   ]
  },
  {
   "cell_type": "code",
   "execution_count": 21,
   "id": "d323a233",
   "metadata": {},
   "outputs": [],
   "source": [
    "df['Artist_Generation'] = df['Age'].apply(sp.generation_2022)"
   ]
  },
  {
   "cell_type": "code",
   "execution_count": 11,
   "id": "f902a579",
   "metadata": {},
   "outputs": [],
   "source": [
    "from datetime import datetime #there are different date formats with the unique so I take the years first"
   ]
  },
  {
   "cell_type": "code",
   "execution_count": 12,
   "id": "5c5a0eda",
   "metadata": {},
   "outputs": [],
   "source": [
    "import numpy as np"
   ]
  },
  {
   "cell_type": "code",
   "execution_count": 13,
   "id": "77c7e0e9",
   "metadata": {},
   "outputs": [],
   "source": [
    "def decade_song(date):\n",
    "    try:\n",
    "        fecha = date.split(\"-\")[0]\n",
    "        año = datetime.strptime(fecha, '%Y')\n",
    "        decade = str(año.year // 10 * 10)+\"s\"\n",
    "    except:\n",
    "        decade= np.nan\n",
    "    return decade"
   ]
  },
  {
   "cell_type": "code",
   "execution_count": 26,
   "id": "bdae435c",
   "metadata": {},
   "outputs": [],
   "source": [
    "df['Song_Decade'] = df['Release_Date'].apply(decade_song)"
   ]
  },
  {
   "cell_type": "code",
   "execution_count": 27,
   "id": "62bc9387",
   "metadata": {},
   "outputs": [
    {
     "data": {
      "text/html": [
       "<div>\n",
       "<style scoped>\n",
       "    .dataframe tbody tr th:only-of-type {\n",
       "        vertical-align: middle;\n",
       "    }\n",
       "\n",
       "    .dataframe tbody tr th {\n",
       "        vertical-align: top;\n",
       "    }\n",
       "\n",
       "    .dataframe thead th {\n",
       "        text-align: right;\n",
       "    }\n",
       "</style>\n",
       "<table border=\"1\" class=\"dataframe\">\n",
       "  <thead>\n",
       "    <tr style=\"text-align: right;\">\n",
       "      <th></th>\n",
       "      <th>Highest_Charting_Position</th>\n",
       "      <th>Number_Of_Times_Charted</th>\n",
       "      <th>Week_Of_Highest_Charting</th>\n",
       "      <th>Song_Name</th>\n",
       "      <th>Streams</th>\n",
       "      <th>Artist</th>\n",
       "      <th>Artist_Followers</th>\n",
       "      <th>Song_Id</th>\n",
       "      <th>Genre</th>\n",
       "      <th>Release_Date</th>\n",
       "      <th>...</th>\n",
       "      <th>Type</th>\n",
       "      <th>Country</th>\n",
       "      <th>Genre2</th>\n",
       "      <th>Genre1</th>\n",
       "      <th>Genre_Gen</th>\n",
       "      <th>Month_Highest_Charting</th>\n",
       "      <th>Season_Highest_Charting</th>\n",
       "      <th>Year_Highest_Charting</th>\n",
       "      <th>Artist_Generation</th>\n",
       "      <th>Song_Decade</th>\n",
       "    </tr>\n",
       "  </thead>\n",
       "  <tbody>\n",
       "    <tr>\n",
       "      <th>0</th>\n",
       "      <td>1</td>\n",
       "      <td>8</td>\n",
       "      <td>2021-07-23</td>\n",
       "      <td>Beggin'</td>\n",
       "      <td>48,633,449</td>\n",
       "      <td>Måneskin</td>\n",
       "      <td>3377762</td>\n",
       "      <td>3Wrjm47oTz2sjIgck11l5e</td>\n",
       "      <td>[\"['indie rock italiano'\", \" 'italian pop']\"]</td>\n",
       "      <td>2017-12-08</td>\n",
       "      <td>...</td>\n",
       "      <td>group</td>\n",
       "      <td>IT</td>\n",
       "      <td>italian pop</td>\n",
       "      <td>indie rock italiano</td>\n",
       "      <td>rock</td>\n",
       "      <td>July</td>\n",
       "      <td>Summer</td>\n",
       "      <td>2021</td>\n",
       "      <td>Generation Z</td>\n",
       "      <td>2010s</td>\n",
       "    </tr>\n",
       "  </tbody>\n",
       "</table>\n",
       "<p>1 rows × 34 columns</p>\n",
       "</div>"
      ],
      "text/plain": [
       "   Highest_Charting_Position  Number_Of_Times_Charted  \\\n",
       "0                          1                        8   \n",
       "\n",
       "  Week_Of_Highest_Charting Song_Name     Streams    Artist Artist_Followers  \\\n",
       "0               2021-07-23   Beggin'  48,633,449  Måneskin          3377762   \n",
       "\n",
       "                  Song_Id                                          Genre  \\\n",
       "0  3Wrjm47oTz2sjIgck11l5e  [\"['indie rock italiano'\", \" 'italian pop']\"]   \n",
       "\n",
       "  Release_Date  ...   Type  Country       Genre2               Genre1  \\\n",
       "0   2017-12-08  ...  group       IT  italian pop  indie rock italiano   \n",
       "\n",
       "   Genre_Gen  Month_Highest_Charting  Season_Highest_Charting  \\\n",
       "0       rock                    July                   Summer   \n",
       "\n",
       "   Year_Highest_Charting  Artist_Generation  Song_Decade  \n",
       "0                   2021       Generation Z        2010s  \n",
       "\n",
       "[1 rows x 34 columns]"
      ]
     },
     "execution_count": 27,
     "metadata": {},
     "output_type": "execute_result"
    }
   ],
   "source": [
    "df.head(1)"
   ]
  },
  {
   "cell_type": "code",
   "execution_count": 28,
   "id": "840246e4",
   "metadata": {},
   "outputs": [],
   "source": [
    "Generacion=pd.DataFrame(df.groupby(['Artist_Generation','Song_Decade'])[\"Artist\"].count())"
   ]
  },
  {
   "cell_type": "code",
   "execution_count": 29,
   "id": "5d6c48c7",
   "metadata": {
    "scrolled": true
   },
   "outputs": [
    {
     "data": {
      "text/html": [
       "<div>\n",
       "<style scoped>\n",
       "    .dataframe tbody tr th:only-of-type {\n",
       "        vertical-align: middle;\n",
       "    }\n",
       "\n",
       "    .dataframe tbody tr th {\n",
       "        vertical-align: top;\n",
       "    }\n",
       "\n",
       "    .dataframe thead th {\n",
       "        text-align: right;\n",
       "    }\n",
       "</style>\n",
       "<table border=\"1\" class=\"dataframe\">\n",
       "  <thead>\n",
       "    <tr style=\"text-align: right;\">\n",
       "      <th></th>\n",
       "      <th>Artist_Generation</th>\n",
       "      <th>Song_Decade</th>\n",
       "      <th>Artist</th>\n",
       "    </tr>\n",
       "  </thead>\n",
       "  <tbody>\n",
       "    <tr>\n",
       "      <th>0</th>\n",
       "      <td>Baby Boomer</td>\n",
       "      <td>1950s</td>\n",
       "      <td>4</td>\n",
       "    </tr>\n",
       "    <tr>\n",
       "      <th>1</th>\n",
       "      <td>Baby Boomer</td>\n",
       "      <td>1960s</td>\n",
       "      <td>3</td>\n",
       "    </tr>\n",
       "    <tr>\n",
       "      <th>2</th>\n",
       "      <td>Baby Boomer</td>\n",
       "      <td>1970s</td>\n",
       "      <td>1</td>\n",
       "    </tr>\n",
       "    <tr>\n",
       "      <th>3</th>\n",
       "      <td>Baby Boomer</td>\n",
       "      <td>1980s</td>\n",
       "      <td>4</td>\n",
       "    </tr>\n",
       "    <tr>\n",
       "      <th>4</th>\n",
       "      <td>Baby Boomer</td>\n",
       "      <td>1990s</td>\n",
       "      <td>1</td>\n",
       "    </tr>\n",
       "  </tbody>\n",
       "</table>\n",
       "</div>"
      ],
      "text/plain": [
       "  Artist_Generation Song_Decade  Artist\n",
       "0       Baby Boomer       1950s       4\n",
       "1       Baby Boomer       1960s       3\n",
       "2       Baby Boomer       1970s       1\n",
       "3       Baby Boomer       1980s       4\n",
       "4       Baby Boomer       1990s       1"
      ]
     },
     "execution_count": 29,
     "metadata": {},
     "output_type": "execute_result"
    }
   ],
   "source": [
    "Generacion=Generacion.reset_index()\n",
    "Generacion.head()"
   ]
  },
  {
   "cell_type": "code",
   "execution_count": 3,
   "id": "050d886f",
   "metadata": {},
   "outputs": [
    {
     "data": {
      "image/png": "[encoded data removed]",
      "text/plain": [
       "<IPython.core.display.Image object>"
      ]
     },
     "metadata": {
      "image/png": {
       "width": 500
      }
     },
     "output_type": "display_data"
    }
   ],
   "source": [
    "sp.display_foto(\"../images/Generations.png\", 500)"
   ]
  },
  {
   "cell_type": "code",
   "execution_count": 30,
   "id": "75e0ea3c",
   "metadata": {},
   "outputs": [],
   "source": [
    "import matplotlib.pyplot as plt"
   ]
  },
  {
   "cell_type": "code",
   "execution_count": 31,
   "id": "01cc98a9",
   "metadata": {},
   "outputs": [
    {
     "data": {
      "text/html": [
       "<div>\n",
       "<style scoped>\n",
       "    .dataframe tbody tr th:only-of-type {\n",
       "        vertical-align: middle;\n",
       "    }\n",
       "\n",
       "    .dataframe tbody tr th {\n",
       "        vertical-align: top;\n",
       "    }\n",
       "\n",
       "    .dataframe thead th {\n",
       "        text-align: right;\n",
       "    }\n",
       "</style>\n",
       "<table border=\"1\" class=\"dataframe\">\n",
       "  <thead>\n",
       "    <tr style=\"text-align: right;\">\n",
       "      <th></th>\n",
       "      <th>Highest_Charting_Position</th>\n",
       "      <th>Number_Of_Times_Charted</th>\n",
       "      <th>Week_Of_Highest_Charting</th>\n",
       "      <th>Song_Name</th>\n",
       "      <th>Streams</th>\n",
       "      <th>Artist</th>\n",
       "      <th>Artist_Followers</th>\n",
       "      <th>Song_Id</th>\n",
       "      <th>Genre</th>\n",
       "      <th>Release_Date</th>\n",
       "      <th>...</th>\n",
       "      <th>Type</th>\n",
       "      <th>Country</th>\n",
       "      <th>Genre2</th>\n",
       "      <th>Genre1</th>\n",
       "      <th>Genre_Gen</th>\n",
       "      <th>Month_Highest_Charting</th>\n",
       "      <th>Season_Highest_Charting</th>\n",
       "      <th>Year_Highest_Charting</th>\n",
       "      <th>Artist_Generation</th>\n",
       "      <th>Song_Decade</th>\n",
       "    </tr>\n",
       "  </thead>\n",
       "  <tbody>\n",
       "    <tr>\n",
       "      <th>883</th>\n",
       "      <td>62</td>\n",
       "      <td>4</td>\n",
       "      <td>2020-12-18</td>\n",
       "      <td>Blue Christmas</td>\n",
       "      <td>6,007,011</td>\n",
       "      <td>Elvis Presley</td>\n",
       "      <td>5698788</td>\n",
       "      <td>3QiAAp20rPC3dcAtKtMaqQ</td>\n",
       "      <td>[\"['rock-and-roll'\", \" 'rockabilly']\"]</td>\n",
       "      <td>1957-10-15</td>\n",
       "      <td>...</td>\n",
       "      <td>person</td>\n",
       "      <td>US</td>\n",
       "      <td>rockabilly</td>\n",
       "      <td>rock-and-roll</td>\n",
       "      <td>rock</td>\n",
       "      <td>December</td>\n",
       "      <td>Winter</td>\n",
       "      <td>2020</td>\n",
       "      <td>Generation X</td>\n",
       "      <td>1950s</td>\n",
       "    </tr>\n",
       "  </tbody>\n",
       "</table>\n",
       "<p>1 rows × 34 columns</p>\n",
       "</div>"
      ],
      "text/plain": [
       "     Highest_Charting_Position  Number_Of_Times_Charted  \\\n",
       "883                         62                        4   \n",
       "\n",
       "    Week_Of_Highest_Charting       Song_Name    Streams         Artist  \\\n",
       "883               2020-12-18  Blue Christmas  6,007,011  Elvis Presley   \n",
       "\n",
       "    Artist_Followers                 Song_Id  \\\n",
       "883          5698788  3QiAAp20rPC3dcAtKtMaqQ   \n",
       "\n",
       "                                      Genre Release_Date  ...    Type  \\\n",
       "883  [\"['rock-and-roll'\", \" 'rockabilly']\"]   1957-10-15  ...  person   \n",
       "\n",
       "     Country      Genre2         Genre1  Genre_Gen  Month_Highest_Charting  \\\n",
       "883       US  rockabilly  rock-and-roll       rock                December   \n",
       "\n",
       "     Season_Highest_Charting  Year_Highest_Charting  Artist_Generation  \\\n",
       "883                   Winter                   2020       Generation X   \n",
       "\n",
       "     Song_Decade  \n",
       "883        1950s  \n",
       "\n",
       "[1 rows x 34 columns]"
      ]
     },
     "execution_count": 31,
     "metadata": {},
     "output_type": "execute_result"
    }
   ],
   "source": [
    "df[(df[\"Artist_Generation\"]==\"Generation X\") & (df[\"Song_Decade\"]==\"1950s\")] #esque la generacion de Elvis Presley (1935) deberia ser silent"
   ]
  },
  {
   "cell_type": "markdown",
   "id": "93cf33c0",
   "metadata": {},
   "source": [
    "assuming that every artist can create a song from birth to the present day, the clear mistake is generation X with songs from 1950"
   ]
  },
  {
   "cell_type": "code",
   "execution_count": 32,
   "id": "b7efe5b9",
   "metadata": {},
   "outputs": [
    {
     "data": {
      "image/png": "[encoded data removed]",
      "text/plain": [
       "<Figure size 432x288 with 1 Axes>"
      ]
     },
     "metadata": {
      "needs_background": "light"
     },
     "output_type": "display_data"
    }
   ],
   "source": [
    "plt.scatter(Generacion[\"Artist_Generation\"], Generacion[\"Song_Decade\"])\n",
    "plt.xlabel('Artist_Generation')\n",
    "plt.ylabel('Song_Decade')\n",
    "plt.title('Artist_Generation & Song_Decade')\n",
    "plt.show()"
   ]
  },
  {
   "cell_type": "code",
   "execution_count": 33,
   "id": "897d72d5",
   "metadata": {},
   "outputs": [],
   "source": [
    "df.loc[df['Artist'].isin([\"Elvis Presley\"]), 'Artist_Generation'] = \"Silent\""
   ]
  },
  {
   "cell_type": "code",
   "execution_count": 34,
   "id": "58d4134f",
   "metadata": {},
   "outputs": [
    {
     "data": {
      "text/plain": [
       "883    Silent\n",
       "Name: Artist_Generation, dtype: object"
      ]
     },
     "execution_count": 34,
     "metadata": {},
     "output_type": "execute_result"
    }
   ],
   "source": [
    "df[\"Artist_Generation\"][df[\"Artist\"]==\"Elvis Presley\"]"
   ]
  },
  {
   "cell_type": "code",
   "execution_count": 35,
   "id": "5dad822d",
   "metadata": {},
   "outputs": [],
   "source": [
    "df.to_csv(\"../data/df_spotify6.csv\")"
   ]
  },
  {
   "cell_type": "markdown",
   "id": "50586bd7",
   "metadata": {},
   "source": [
    "## 3-  Dataset structure"
   ]
  },
  {
   "cell_type": "code",
   "execution_count": 148,
   "id": "3d526bbd",
   "metadata": {},
   "outputs": [],
   "source": [
    "df=pd.read_csv(\"../data/df_spotify6.csv\", index_col = 0 )"
   ]
  },
  {
   "cell_type": "code",
   "execution_count": 149,
   "id": "4882525c",
   "metadata": {},
   "outputs": [
    {
     "data": {
      "text/html": [
       "<div>\n",
       "<style scoped>\n",
       "    .dataframe tbody tr th:only-of-type {\n",
       "        vertical-align: middle;\n",
       "    }\n",
       "\n",
       "    .dataframe tbody tr th {\n",
       "        vertical-align: top;\n",
       "    }\n",
       "\n",
       "    .dataframe thead th {\n",
       "        text-align: right;\n",
       "    }\n",
       "</style>\n",
       "<table border=\"1\" class=\"dataframe\">\n",
       "  <thead>\n",
       "    <tr style=\"text-align: right;\">\n",
       "      <th></th>\n",
       "      <th>Highest_Charting_Position</th>\n",
       "      <th>Number_Of_Times_Charted</th>\n",
       "      <th>Week_Of_Highest_Charting</th>\n",
       "      <th>Song_Name</th>\n",
       "      <th>Streams</th>\n",
       "      <th>Artist</th>\n",
       "      <th>Artist_Followers</th>\n",
       "      <th>Song_Id</th>\n",
       "      <th>Genre</th>\n",
       "      <th>Release_Date</th>\n",
       "      <th>Weeks_Charted</th>\n",
       "      <th>Popularity</th>\n",
       "      <th>Danceability</th>\n",
       "      <th>Energy</th>\n",
       "      <th>Loudness</th>\n",
       "      <th>Speechiness</th>\n",
       "      <th>Acousticness</th>\n",
       "      <th>Liveness</th>\n",
       "      <th>Tempo</th>\n",
       "      <th>Duration_(Ms)</th>\n",
       "      <th>Valence</th>\n",
       "      <th>Chord</th>\n",
       "      <th>Gender</th>\n",
       "      <th>Age</th>\n",
       "      <th>Type</th>\n",
       "      <th>Country</th>\n",
       "      <th>Genre2</th>\n",
       "      <th>Genre1</th>\n",
       "      <th>Genre_Gen</th>\n",
       "      <th>Month_Highest_Charting</th>\n",
       "      <th>Season_Highest_Charting</th>\n",
       "      <th>Year_Highest_Charting</th>\n",
       "      <th>Artist_Generation</th>\n",
       "      <th>Song_Decade</th>\n",
       "    </tr>\n",
       "  </thead>\n",
       "  <tbody>\n",
       "    <tr>\n",
       "      <th>0</th>\n",
       "      <td>1</td>\n",
       "      <td>8</td>\n",
       "      <td>2021-07-23</td>\n",
       "      <td>Beggin'</td>\n",
       "      <td>48,633,449</td>\n",
       "      <td>Måneskin</td>\n",
       "      <td>3377762</td>\n",
       "      <td>3Wrjm47oTz2sjIgck11l5e</td>\n",
       "      <td>[\"['indie rock italiano'\", \" 'italian pop']\"]</td>\n",
       "      <td>2017-12-08</td>\n",
       "      <td>2021-07-23--2021-07-30\\n2021-07-16--2021-07-23...</td>\n",
       "      <td>100.0</td>\n",
       "      <td>0.714</td>\n",
       "      <td>0.8</td>\n",
       "      <td>-4.808</td>\n",
       "      <td>0.0504</td>\n",
       "      <td>0.127</td>\n",
       "      <td>0.359</td>\n",
       "      <td>134.002</td>\n",
       "      <td>211560.0</td>\n",
       "      <td>0.589</td>\n",
       "      <td>B</td>\n",
       "      <td>mixed</td>\n",
       "      <td>4</td>\n",
       "      <td>group</td>\n",
       "      <td>IT</td>\n",
       "      <td>italian pop</td>\n",
       "      <td>indie rock italiano</td>\n",
       "      <td>rock</td>\n",
       "      <td>July</td>\n",
       "      <td>Summer</td>\n",
       "      <td>2021</td>\n",
       "      <td>Generation Z</td>\n",
       "      <td>2010s</td>\n",
       "    </tr>\n",
       "  </tbody>\n",
       "</table>\n",
       "</div>"
      ],
      "text/plain": [
       "   Highest_Charting_Position  Number_Of_Times_Charted  \\\n",
       "0                          1                        8   \n",
       "\n",
       "  Week_Of_Highest_Charting Song_Name     Streams    Artist Artist_Followers  \\\n",
       "0               2021-07-23   Beggin'  48,633,449  Måneskin          3377762   \n",
       "\n",
       "                  Song_Id                                          Genre  \\\n",
       "0  3Wrjm47oTz2sjIgck11l5e  [\"['indie rock italiano'\", \" 'italian pop']\"]   \n",
       "\n",
       "  Release_Date                                      Weeks_Charted  Popularity  \\\n",
       "0   2017-12-08  2021-07-23--2021-07-30\\n2021-07-16--2021-07-23...       100.0   \n",
       "\n",
       "   Danceability  Energy  Loudness  Speechiness  Acousticness  Liveness  \\\n",
       "0         0.714     0.8    -4.808       0.0504         0.127     0.359   \n",
       "\n",
       "     Tempo  Duration_(Ms)  Valence Chord Gender  Age   Type Country  \\\n",
       "0  134.002       211560.0    0.589     B  mixed    4  group      IT   \n",
       "\n",
       "        Genre2               Genre1 Genre_Gen Month_Highest_Charting  \\\n",
       "0  italian pop  indie rock italiano      rock                   July   \n",
       "\n",
       "  Season_Highest_Charting  Year_Highest_Charting Artist_Generation Song_Decade  \n",
       "0                  Summer                   2021      Generation Z       2010s  "
      ]
     },
     "execution_count": 149,
     "metadata": {},
     "output_type": "execute_result"
    }
   ],
   "source": [
    "df.head(1)"
   ]
  },
  {
   "cell_type": "code",
   "execution_count": 150,
   "id": "04a5dba2",
   "metadata": {},
   "outputs": [],
   "source": [
    "borrar=[\"Highest_Charting_Position\",\"Number_Of_Times_Charted\", \"Song_Id\", \"Genre\", \"Age\", \"Weeks_Charted\"]"
   ]
  },
  {
   "cell_type": "code",
   "execution_count": 151,
   "id": "1891e78c",
   "metadata": {},
   "outputs": [],
   "source": [
    "df.drop(borrar, axis = 1, inplace=True)"
   ]
  },
  {
   "cell_type": "code",
   "execution_count": 152,
   "id": "05e18908",
   "metadata": {},
   "outputs": [
    {
     "data": {
      "text/html": [
       "<div>\n",
       "<style scoped>\n",
       "    .dataframe tbody tr th:only-of-type {\n",
       "        vertical-align: middle;\n",
       "    }\n",
       "\n",
       "    .dataframe tbody tr th {\n",
       "        vertical-align: top;\n",
       "    }\n",
       "\n",
       "    .dataframe thead th {\n",
       "        text-align: right;\n",
       "    }\n",
       "</style>\n",
       "<table border=\"1\" class=\"dataframe\">\n",
       "  <thead>\n",
       "    <tr style=\"text-align: right;\">\n",
       "      <th></th>\n",
       "      <th>Week_Of_Highest_Charting</th>\n",
       "      <th>Song_Name</th>\n",
       "      <th>Streams</th>\n",
       "      <th>Artist</th>\n",
       "      <th>Artist_Followers</th>\n",
       "      <th>Release_Date</th>\n",
       "      <th>Popularity</th>\n",
       "      <th>Danceability</th>\n",
       "      <th>Energy</th>\n",
       "      <th>Loudness</th>\n",
       "      <th>Speechiness</th>\n",
       "      <th>Acousticness</th>\n",
       "      <th>Liveness</th>\n",
       "      <th>Tempo</th>\n",
       "      <th>Duration_(Ms)</th>\n",
       "      <th>Valence</th>\n",
       "      <th>Chord</th>\n",
       "      <th>Gender</th>\n",
       "      <th>Type</th>\n",
       "      <th>Country</th>\n",
       "      <th>Genre2</th>\n",
       "      <th>Genre1</th>\n",
       "      <th>Genre_Gen</th>\n",
       "      <th>Month_Highest_Charting</th>\n",
       "      <th>Season_Highest_Charting</th>\n",
       "      <th>Year_Highest_Charting</th>\n",
       "      <th>Artist_Generation</th>\n",
       "      <th>Song_Decade</th>\n",
       "    </tr>\n",
       "  </thead>\n",
       "  <tbody>\n",
       "    <tr>\n",
       "      <th>0</th>\n",
       "      <td>2021-07-23</td>\n",
       "      <td>Beggin'</td>\n",
       "      <td>48,633,449</td>\n",
       "      <td>Måneskin</td>\n",
       "      <td>3377762</td>\n",
       "      <td>2017-12-08</td>\n",
       "      <td>100.0</td>\n",
       "      <td>0.714</td>\n",
       "      <td>0.8</td>\n",
       "      <td>-4.808</td>\n",
       "      <td>0.0504</td>\n",
       "      <td>0.127</td>\n",
       "      <td>0.359</td>\n",
       "      <td>134.002</td>\n",
       "      <td>211560.0</td>\n",
       "      <td>0.589</td>\n",
       "      <td>B</td>\n",
       "      <td>mixed</td>\n",
       "      <td>group</td>\n",
       "      <td>IT</td>\n",
       "      <td>italian pop</td>\n",
       "      <td>indie rock italiano</td>\n",
       "      <td>rock</td>\n",
       "      <td>July</td>\n",
       "      <td>Summer</td>\n",
       "      <td>2021</td>\n",
       "      <td>Generation Z</td>\n",
       "      <td>2010s</td>\n",
       "    </tr>\n",
       "  </tbody>\n",
       "</table>\n",
       "</div>"
      ],
      "text/plain": [
       "  Week_Of_Highest_Charting Song_Name     Streams    Artist Artist_Followers  \\\n",
       "0               2021-07-23   Beggin'  48,633,449  Måneskin          3377762   \n",
       "\n",
       "  Release_Date  Popularity  Danceability  Energy  Loudness  Speechiness  \\\n",
       "0   2017-12-08       100.0         0.714     0.8    -4.808       0.0504   \n",
       "\n",
       "   Acousticness  Liveness    Tempo  Duration_(Ms)  Valence Chord Gender  \\\n",
       "0         0.127     0.359  134.002       211560.0    0.589     B  mixed   \n",
       "\n",
       "    Type Country       Genre2               Genre1 Genre_Gen  \\\n",
       "0  group      IT  italian pop  indie rock italiano      rock   \n",
       "\n",
       "  Month_Highest_Charting Season_Highest_Charting  Year_Highest_Charting  \\\n",
       "0                   July                  Summer                   2021   \n",
       "\n",
       "  Artist_Generation Song_Decade  \n",
       "0      Generation Z       2010s  "
      ]
     },
     "execution_count": 152,
     "metadata": {},
     "output_type": "execute_result"
    }
   ],
   "source": [
    "df.head(1)"
   ]
  },
  {
   "cell_type": "code",
   "execution_count": 153,
   "id": "463ddd8e",
   "metadata": {},
   "outputs": [
    {
     "data": {
      "text/plain": [
       "Index(['Week_Of_Highest_Charting', 'Song_Name', 'Streams', 'Artist',\n",
       "       'Artist_Followers', 'Release_Date', 'Popularity', 'Danceability',\n",
       "       'Energy', 'Loudness', 'Speechiness', 'Acousticness', 'Liveness',\n",
       "       'Tempo', 'Duration_(Ms)', 'Valence', 'Chord', 'Gender', 'Type',\n",
       "       'Country', 'Genre2', 'Genre1', 'Genre_Gen', 'Month_Highest_Charting',\n",
       "       'Season_Highest_Charting', 'Year_Highest_Charting', 'Artist_Generation',\n",
       "       'Song_Decade'],\n",
       "      dtype='object')"
      ]
     },
     "execution_count": 153,
     "metadata": {},
     "output_type": "execute_result"
    }
   ],
   "source": [
    "df.columns"
   ]
  },
  {
   "cell_type": "code",
   "execution_count": 154,
   "id": "73965f09",
   "metadata": {},
   "outputs": [
    {
     "data": {
      "text/plain": [
       "(1143, 28)"
      ]
     },
     "execution_count": 154,
     "metadata": {},
     "output_type": "execute_result"
    }
   ],
   "source": [
    "df.shape"
   ]
  },
  {
   "cell_type": "code",
   "execution_count": 155,
   "id": "9b844589",
   "metadata": {},
   "outputs": [],
   "source": [
    "df=df.reindex(columns=['Song_Name','Genre_Gen', 'Genre1', 'Genre2','Release_Date', 'Song_Decade','Streams', 'Week_Of_Highest_Charting',\n",
    "        'Month_Highest_Charting','Season_Highest_Charting','Year_Highest_Charting','Popularity', 'Danceability',\n",
    "       'Energy', 'Loudness', 'Speechiness', 'Acousticness', 'Liveness',\n",
    "       'Tempo', 'Duration_(Ms)', 'Valence', 'Chord','Artist','Artist_Followers', 'Gender', 'Artist_Generation','Type','Country'])"
   ]
  },
  {
   "cell_type": "code",
   "execution_count": 156,
   "id": "9cb74c67",
   "metadata": {},
   "outputs": [
    {
     "data": {
      "text/plain": [
       "(1143, 28)"
      ]
     },
     "execution_count": 156,
     "metadata": {},
     "output_type": "execute_result"
    }
   ],
   "source": [
    "df.shape"
   ]
  },
  {
   "cell_type": "code",
   "execution_count": 157,
   "id": "4b8cef14",
   "metadata": {},
   "outputs": [
    {
     "data": {
      "text/html": [
       "<div>\n",
       "<style scoped>\n",
       "    .dataframe tbody tr th:only-of-type {\n",
       "        vertical-align: middle;\n",
       "    }\n",
       "\n",
       "    .dataframe tbody tr th {\n",
       "        vertical-align: top;\n",
       "    }\n",
       "\n",
       "    .dataframe thead th {\n",
       "        text-align: right;\n",
       "    }\n",
       "</style>\n",
       "<table border=\"1\" class=\"dataframe\">\n",
       "  <thead>\n",
       "    <tr style=\"text-align: right;\">\n",
       "      <th></th>\n",
       "      <th>Song_Name</th>\n",
       "      <th>Genre_Gen</th>\n",
       "      <th>Genre1</th>\n",
       "      <th>Genre2</th>\n",
       "      <th>Release_Date</th>\n",
       "      <th>Song_Decade</th>\n",
       "      <th>Streams</th>\n",
       "      <th>Week_Of_Highest_Charting</th>\n",
       "      <th>Month_Highest_Charting</th>\n",
       "      <th>Season_Highest_Charting</th>\n",
       "      <th>Year_Highest_Charting</th>\n",
       "      <th>Popularity</th>\n",
       "      <th>Danceability</th>\n",
       "      <th>Energy</th>\n",
       "      <th>Loudness</th>\n",
       "      <th>Speechiness</th>\n",
       "      <th>Acousticness</th>\n",
       "      <th>Liveness</th>\n",
       "      <th>Tempo</th>\n",
       "      <th>Duration_(Ms)</th>\n",
       "      <th>Valence</th>\n",
       "      <th>Chord</th>\n",
       "      <th>Artist</th>\n",
       "      <th>Artist_Followers</th>\n",
       "      <th>Gender</th>\n",
       "      <th>Artist_Generation</th>\n",
       "      <th>Type</th>\n",
       "      <th>Country</th>\n",
       "    </tr>\n",
       "  </thead>\n",
       "  <tbody>\n",
       "    <tr>\n",
       "      <th>0</th>\n",
       "      <td>Beggin'</td>\n",
       "      <td>rock</td>\n",
       "      <td>indie rock italiano</td>\n",
       "      <td>italian pop</td>\n",
       "      <td>2017-12-08</td>\n",
       "      <td>2010s</td>\n",
       "      <td>48,633,449</td>\n",
       "      <td>2021-07-23</td>\n",
       "      <td>July</td>\n",
       "      <td>Summer</td>\n",
       "      <td>2021</td>\n",
       "      <td>100.0</td>\n",
       "      <td>0.714</td>\n",
       "      <td>0.800</td>\n",
       "      <td>-4.808</td>\n",
       "      <td>0.0504</td>\n",
       "      <td>0.12700</td>\n",
       "      <td>0.359</td>\n",
       "      <td>134.002</td>\n",
       "      <td>211560.0</td>\n",
       "      <td>0.589</td>\n",
       "      <td>B</td>\n",
       "      <td>Måneskin</td>\n",
       "      <td>3377762</td>\n",
       "      <td>mixed</td>\n",
       "      <td>Generation Z</td>\n",
       "      <td>group</td>\n",
       "      <td>IT</td>\n",
       "    </tr>\n",
       "    <tr>\n",
       "      <th>1</th>\n",
       "      <td>I WANNA BE YOUR SLAVE</td>\n",
       "      <td>rock</td>\n",
       "      <td>indie rock italiano</td>\n",
       "      <td>italian pop</td>\n",
       "      <td>2021-03-19</td>\n",
       "      <td>2020s</td>\n",
       "      <td>24,551,591</td>\n",
       "      <td>2021-07-02</td>\n",
       "      <td>July</td>\n",
       "      <td>Summer</td>\n",
       "      <td>2021</td>\n",
       "      <td>95.0</td>\n",
       "      <td>0.750</td>\n",
       "      <td>0.608</td>\n",
       "      <td>-4.008</td>\n",
       "      <td>0.0387</td>\n",
       "      <td>0.00165</td>\n",
       "      <td>0.178</td>\n",
       "      <td>132.507</td>\n",
       "      <td>173347.0</td>\n",
       "      <td>0.958</td>\n",
       "      <td>C#/Db</td>\n",
       "      <td>Måneskin</td>\n",
       "      <td>3377762</td>\n",
       "      <td>mixed</td>\n",
       "      <td>Generation Z</td>\n",
       "      <td>group</td>\n",
       "      <td>IT</td>\n",
       "    </tr>\n",
       "    <tr>\n",
       "      <th>2</th>\n",
       "      <td>ZITTI E BUONI</td>\n",
       "      <td>rock</td>\n",
       "      <td>indie rock italiano</td>\n",
       "      <td>italian pop</td>\n",
       "      <td>2021-03-19</td>\n",
       "      <td>2020s</td>\n",
       "      <td>7,975,148</td>\n",
       "      <td>2021-05-28</td>\n",
       "      <td>May</td>\n",
       "      <td>Spring</td>\n",
       "      <td>2021</td>\n",
       "      <td>86.0</td>\n",
       "      <td>0.625</td>\n",
       "      <td>0.939</td>\n",
       "      <td>-3.115</td>\n",
       "      <td>0.0669</td>\n",
       "      <td>0.00138</td>\n",
       "      <td>0.424</td>\n",
       "      <td>102.999</td>\n",
       "      <td>194787.0</td>\n",
       "      <td>0.644</td>\n",
       "      <td>E</td>\n",
       "      <td>Måneskin</td>\n",
       "      <td>3377762</td>\n",
       "      <td>mixed</td>\n",
       "      <td>Generation Z</td>\n",
       "      <td>group</td>\n",
       "      <td>IT</td>\n",
       "    </tr>\n",
       "    <tr>\n",
       "      <th>3</th>\n",
       "      <td>CORALINE</td>\n",
       "      <td>rock</td>\n",
       "      <td>indie rock italiano</td>\n",
       "      <td>italian pop</td>\n",
       "      <td>2021-03-19</td>\n",
       "      <td>2020s</td>\n",
       "      <td>5,241,813</td>\n",
       "      <td>2021-05-28</td>\n",
       "      <td>May</td>\n",
       "      <td>Spring</td>\n",
       "      <td>2021</td>\n",
       "      <td>81.0</td>\n",
       "      <td>0.363</td>\n",
       "      <td>0.678</td>\n",
       "      <td>-4.939</td>\n",
       "      <td>0.0995</td>\n",
       "      <td>0.02990</td>\n",
       "      <td>0.324</td>\n",
       "      <td>162.124</td>\n",
       "      <td>300413.0</td>\n",
       "      <td>0.321</td>\n",
       "      <td>D</td>\n",
       "      <td>Måneskin</td>\n",
       "      <td>3377762</td>\n",
       "      <td>mixed</td>\n",
       "      <td>Generation Z</td>\n",
       "      <td>group</td>\n",
       "      <td>IT</td>\n",
       "    </tr>\n",
       "    <tr>\n",
       "      <th>4</th>\n",
       "      <td>STAY (with Justin Bieber)</td>\n",
       "      <td>hip hop</td>\n",
       "      <td>australian hip hop</td>\n",
       "      <td>NaN</td>\n",
       "      <td>2021-07-09</td>\n",
       "      <td>2020s</td>\n",
       "      <td>47,248,719</td>\n",
       "      <td>2021-07-23</td>\n",
       "      <td>July</td>\n",
       "      <td>Summer</td>\n",
       "      <td>2021</td>\n",
       "      <td>99.0</td>\n",
       "      <td>0.591</td>\n",
       "      <td>0.764</td>\n",
       "      <td>-5.484</td>\n",
       "      <td>0.0483</td>\n",
       "      <td>0.03830</td>\n",
       "      <td>0.103</td>\n",
       "      <td>169.928</td>\n",
       "      <td>141806.0</td>\n",
       "      <td>0.478</td>\n",
       "      <td>C#/Db</td>\n",
       "      <td>The Kid LAROI</td>\n",
       "      <td>2230022</td>\n",
       "      <td>male</td>\n",
       "      <td>Generation Z</td>\n",
       "      <td>person</td>\n",
       "      <td>AU</td>\n",
       "    </tr>\n",
       "  </tbody>\n",
       "</table>\n",
       "</div>"
      ],
      "text/plain": [
       "                   Song_Name Genre_Gen               Genre1       Genre2  \\\n",
       "0                    Beggin'      rock  indie rock italiano  italian pop   \n",
       "1      I WANNA BE YOUR SLAVE      rock  indie rock italiano  italian pop   \n",
       "2              ZITTI E BUONI      rock  indie rock italiano  italian pop   \n",
       "3                   CORALINE      rock  indie rock italiano  italian pop   \n",
       "4  STAY (with Justin Bieber)   hip hop   australian hip hop          NaN   \n",
       "\n",
       "  Release_Date Song_Decade     Streams Week_Of_Highest_Charting  \\\n",
       "0   2017-12-08       2010s  48,633,449               2021-07-23   \n",
       "1   2021-03-19       2020s  24,551,591               2021-07-02   \n",
       "2   2021-03-19       2020s   7,975,148               2021-05-28   \n",
       "3   2021-03-19       2020s   5,241,813               2021-05-28   \n",
       "4   2021-07-09       2020s  47,248,719               2021-07-23   \n",
       "\n",
       "  Month_Highest_Charting Season_Highest_Charting  Year_Highest_Charting  \\\n",
       "0                   July                  Summer                   2021   \n",
       "1                   July                  Summer                   2021   \n",
       "2                    May                  Spring                   2021   \n",
       "3                    May                  Spring                   2021   \n",
       "4                   July                  Summer                   2021   \n",
       "\n",
       "   Popularity  Danceability  Energy  Loudness  Speechiness  Acousticness  \\\n",
       "0       100.0         0.714   0.800    -4.808       0.0504       0.12700   \n",
       "1        95.0         0.750   0.608    -4.008       0.0387       0.00165   \n",
       "2        86.0         0.625   0.939    -3.115       0.0669       0.00138   \n",
       "3        81.0         0.363   0.678    -4.939       0.0995       0.02990   \n",
       "4        99.0         0.591   0.764    -5.484       0.0483       0.03830   \n",
       "\n",
       "   Liveness    Tempo  Duration_(Ms)  Valence  Chord         Artist  \\\n",
       "0     0.359  134.002       211560.0    0.589      B       Måneskin   \n",
       "1     0.178  132.507       173347.0    0.958  C#/Db       Måneskin   \n",
       "2     0.424  102.999       194787.0    0.644      E       Måneskin   \n",
       "3     0.324  162.124       300413.0    0.321      D       Måneskin   \n",
       "4     0.103  169.928       141806.0    0.478  C#/Db  The Kid LAROI   \n",
       "\n",
       "  Artist_Followers Gender Artist_Generation    Type Country  \n",
       "0          3377762  mixed      Generation Z   group      IT  \n",
       "1          3377762  mixed      Generation Z   group      IT  \n",
       "2          3377762  mixed      Generation Z   group      IT  \n",
       "3          3377762  mixed      Generation Z   group      IT  \n",
       "4          2230022   male      Generation Z  person      AU  "
      ]
     },
     "execution_count": 157,
     "metadata": {},
     "output_type": "execute_result"
    }
   ],
   "source": [
    "df.head()"
   ]
  },
  {
   "cell_type": "code",
   "execution_count": 158,
   "id": "4439a1cb",
   "metadata": {},
   "outputs": [],
   "source": [
    "df.rename(columns = {\"Genre_Gen\": \"Genre\"}, inplace = True)\n",
    "df.rename(columns = {\"Genre1\": \"Subgenre\"}, inplace = True)\n",
    "df.rename(columns = {\"Genre2\": \"Subgenre_2\"}, inplace = True)"
   ]
  },
  {
   "cell_type": "code",
   "execution_count": 159,
   "id": "5fe7b658",
   "metadata": {},
   "outputs": [
    {
     "data": {
      "text/html": [
       "<div>\n",
       "<style scoped>\n",
       "    .dataframe tbody tr th:only-of-type {\n",
       "        vertical-align: middle;\n",
       "    }\n",
       "\n",
       "    .dataframe tbody tr th {\n",
       "        vertical-align: top;\n",
       "    }\n",
       "\n",
       "    .dataframe thead th {\n",
       "        text-align: right;\n",
       "    }\n",
       "</style>\n",
       "<table border=\"1\" class=\"dataframe\">\n",
       "  <thead>\n",
       "    <tr style=\"text-align: right;\">\n",
       "      <th></th>\n",
       "      <th>0</th>\n",
       "    </tr>\n",
       "  </thead>\n",
       "  <tbody>\n",
       "    <tr>\n",
       "      <th>Genre</th>\n",
       "      <td>0.524934</td>\n",
       "    </tr>\n",
       "    <tr>\n",
       "      <th>Subgenre_2</th>\n",
       "      <td>15.660542</td>\n",
       "    </tr>\n",
       "    <tr>\n",
       "      <th>Song_Decade</th>\n",
       "      <td>0.787402</td>\n",
       "    </tr>\n",
       "    <tr>\n",
       "      <th>Popularity</th>\n",
       "      <td>0.787402</td>\n",
       "    </tr>\n",
       "    <tr>\n",
       "      <th>Danceability</th>\n",
       "      <td>0.787402</td>\n",
       "    </tr>\n",
       "    <tr>\n",
       "      <th>Energy</th>\n",
       "      <td>0.787402</td>\n",
       "    </tr>\n",
       "    <tr>\n",
       "      <th>Loudness</th>\n",
       "      <td>0.787402</td>\n",
       "    </tr>\n",
       "    <tr>\n",
       "      <th>Speechiness</th>\n",
       "      <td>0.787402</td>\n",
       "    </tr>\n",
       "    <tr>\n",
       "      <th>Acousticness</th>\n",
       "      <td>0.787402</td>\n",
       "    </tr>\n",
       "    <tr>\n",
       "      <th>Liveness</th>\n",
       "      <td>0.787402</td>\n",
       "    </tr>\n",
       "    <tr>\n",
       "      <th>Tempo</th>\n",
       "      <td>0.787402</td>\n",
       "    </tr>\n",
       "    <tr>\n",
       "      <th>Duration_(Ms)</th>\n",
       "      <td>0.787402</td>\n",
       "    </tr>\n",
       "    <tr>\n",
       "      <th>Valence</th>\n",
       "      <td>0.787402</td>\n",
       "    </tr>\n",
       "    <tr>\n",
       "      <th>Gender</th>\n",
       "      <td>1.487314</td>\n",
       "    </tr>\n",
       "    <tr>\n",
       "      <th>Type</th>\n",
       "      <td>1.487314</td>\n",
       "    </tr>\n",
       "    <tr>\n",
       "      <th>Country</th>\n",
       "      <td>0.349956</td>\n",
       "    </tr>\n",
       "  </tbody>\n",
       "</table>\n",
       "</div>"
      ],
      "text/plain": [
       "                       0\n",
       "Genre           0.524934\n",
       "Subgenre_2     15.660542\n",
       "Song_Decade     0.787402\n",
       "Popularity      0.787402\n",
       "Danceability    0.787402\n",
       "Energy          0.787402\n",
       "Loudness        0.787402\n",
       "Speechiness     0.787402\n",
       "Acousticness    0.787402\n",
       "Liveness        0.787402\n",
       "Tempo           0.787402\n",
       "Duration_(Ms)   0.787402\n",
       "Valence         0.787402\n",
       "Gender          1.487314\n",
       "Type            1.487314\n",
       "Country         0.349956"
      ]
     },
     "execution_count": 159,
     "metadata": {},
     "output_type": "execute_result"
    }
   ],
   "source": [
    "df_nul=pd.DataFrame((df.isnull().sum() * 100) / df.shape[0])\n",
    "df_nul[df_nul[0]>0] #para el subgenre_2 es normal asique reemplazo los nulos por \"-\", los que son menor que 1 no son muchos asiqeu los borro"
   ]
  },
  {
   "cell_type": "code",
   "execution_count": 160,
   "id": "a706f1b1",
   "metadata": {},
   "outputs": [],
   "source": [
    "df['Subgenre_2'].fillna(\"-\",inplace=True)"
   ]
  },
  {
   "cell_type": "code",
   "execution_count": 161,
   "id": "ccc65804",
   "metadata": {},
   "outputs": [],
   "source": [
    "df = df.dropna(subset=[\"Popularity\"])"
   ]
  },
  {
   "cell_type": "code",
   "execution_count": 162,
   "id": "b2abbf01",
   "metadata": {},
   "outputs": [],
   "source": [
    "df = df.dropna(subset=[\"Country\"])"
   ]
  },
  {
   "cell_type": "code",
   "execution_count": 164,
   "id": "b1ad3a5d",
   "metadata": {},
   "outputs": [],
   "source": [
    "df = df.dropna(subset=[\"Genre\"])"
   ]
  },
  {
   "cell_type": "markdown",
   "id": "529d9c60",
   "metadata": {},
   "source": [
    "### 2.3.3.1  Gender Nul"
   ]
  },
  {
   "cell_type": "code",
   "execution_count": 165,
   "id": "72c03380",
   "metadata": {},
   "outputs": [
    {
     "data": {
      "text/html": [
       "<div>\n",
       "<style scoped>\n",
       "    .dataframe tbody tr th:only-of-type {\n",
       "        vertical-align: middle;\n",
       "    }\n",
       "\n",
       "    .dataframe tbody tr th {\n",
       "        vertical-align: top;\n",
       "    }\n",
       "\n",
       "    .dataframe thead th {\n",
       "        text-align: right;\n",
       "    }\n",
       "</style>\n",
       "<table border=\"1\" class=\"dataframe\">\n",
       "  <thead>\n",
       "    <tr style=\"text-align: right;\">\n",
       "      <th></th>\n",
       "      <th>0</th>\n",
       "    </tr>\n",
       "  </thead>\n",
       "  <tbody>\n",
       "    <tr>\n",
       "      <th>Gender</th>\n",
       "      <td>1.156584</td>\n",
       "    </tr>\n",
       "    <tr>\n",
       "      <th>Type</th>\n",
       "      <td>1.156584</td>\n",
       "    </tr>\n",
       "  </tbody>\n",
       "</table>\n",
       "</div>"
      ],
      "text/plain": [
       "               0\n",
       "Gender  1.156584\n",
       "Type    1.156584"
      ]
     },
     "execution_count": 165,
     "metadata": {},
     "output_type": "execute_result"
    }
   ],
   "source": [
    "df_nul=pd.DataFrame((df.isnull().sum() * 100) / df.shape[0])\n",
    "df_nul[df_nul[0]>0]"
   ]
  },
  {
   "cell_type": "code",
   "execution_count": 167,
   "id": "b43d3bed",
   "metadata": {},
   "outputs": [],
   "source": [
    "null = df[\"Gender\"].isnull()\n",
    "df_null_g = df.loc[null, :]"
   ]
  },
  {
   "cell_type": "code",
   "execution_count": 168,
   "id": "69e7fe64",
   "metadata": {},
   "outputs": [
    {
     "data": {
      "text/plain": [
       "array([nan], dtype=object)"
      ]
     },
     "execution_count": 168,
     "metadata": {},
     "output_type": "execute_result"
    }
   ],
   "source": [
    "df_null_g[\"Type\"].unique()  "
   ]
  },
  {
   "cell_type": "code",
   "execution_count": 169,
   "id": "4081f62e",
   "metadata": {},
   "outputs": [
    {
     "data": {
      "text/plain": [
       "array(['Giveon', 'Sleepy Hallow', 'Boza', 'Baby Keem', 'Rod Wave',\n",
       "       'Fousheé', 'Nea', 'Juanfran', 'TOKYO’S REVENGE', 'Anne-Marie'],\n",
       "      dtype=object)"
      ]
     },
     "execution_count": 169,
     "metadata": {},
     "output_type": "execute_result"
    }
   ],
   "source": [
    "artist=df_null_g[\"Artist\"].unique()\n",
    "artist"
   ]
  },
  {
   "cell_type": "code",
   "execution_count": 171,
   "id": "e2eea9f0",
   "metadata": {},
   "outputs": [],
   "source": [
    "import gender_guesser.detector as gender"
   ]
  },
  {
   "cell_type": "code",
   "execution_count": 172,
   "id": "12bed3ed",
   "metadata": {},
   "outputs": [],
   "source": [
    "guess={\"Artist\":[], \"Gender\":[], \"Type\":[]}\n",
    "d = gender.Detector()\n",
    "for name in artist:\n",
    "        g=d.get_gender(name)\n",
    "        guess[\"Artist\"].append(name)\n",
    "        guess[\"Gender\"].append(g)\n",
    "        guess[\"Type\"].append(\"person\")"
   ]
  },
  {
   "cell_type": "code",
   "execution_count": 173,
   "id": "9d1ea488",
   "metadata": {},
   "outputs": [
    {
     "data": {
      "text/html": [
       "<div>\n",
       "<style scoped>\n",
       "    .dataframe tbody tr th:only-of-type {\n",
       "        vertical-align: middle;\n",
       "    }\n",
       "\n",
       "    .dataframe tbody tr th {\n",
       "        vertical-align: top;\n",
       "    }\n",
       "\n",
       "    .dataframe thead th {\n",
       "        text-align: right;\n",
       "    }\n",
       "</style>\n",
       "<table border=\"1\" class=\"dataframe\">\n",
       "  <thead>\n",
       "    <tr style=\"text-align: right;\">\n",
       "      <th></th>\n",
       "      <th>Artist</th>\n",
       "      <th>Gender</th>\n",
       "      <th>Type</th>\n",
       "    </tr>\n",
       "  </thead>\n",
       "  <tbody>\n",
       "    <tr>\n",
       "      <th>6</th>\n",
       "      <td>Nea</td>\n",
       "      <td>female</td>\n",
       "      <td>person</td>\n",
       "    </tr>\n",
       "    <tr>\n",
       "      <th>9</th>\n",
       "      <td>Anne-Marie</td>\n",
       "      <td>female</td>\n",
       "      <td>person</td>\n",
       "    </tr>\n",
       "  </tbody>\n",
       "</table>\n",
       "</div>"
      ],
      "text/plain": [
       "       Artist  Gender    Type\n",
       "6         Nea  female  person\n",
       "9  Anne-Marie  female  person"
      ]
     },
     "execution_count": 173,
     "metadata": {},
     "output_type": "execute_result"
    }
   ],
   "source": [
    "df_guess=pd.DataFrame(guess)\n",
    "df_guess[df_guess[\"Gender\"]!=\"unknown\"]"
   ]
  },
  {
   "cell_type": "code",
   "execution_count": 174,
   "id": "b3f830c6",
   "metadata": {},
   "outputs": [],
   "source": [
    "df.loc[df['Artist'].isin([\"Anne-Marie\", \"Nea\"]), 'Gender'] = \"female\"\n",
    "df.loc[df['Artist'].isin([\"Anne-Marie\", \"Nea\"]), 'Type'] = \"person\""
   ]
  },
  {
   "cell_type": "code",
   "execution_count": 175,
   "id": "20458d81",
   "metadata": {},
   "outputs": [
    {
     "data": {
      "text/html": [
       "<div>\n",
       "<style scoped>\n",
       "    .dataframe tbody tr th:only-of-type {\n",
       "        vertical-align: middle;\n",
       "    }\n",
       "\n",
       "    .dataframe tbody tr th {\n",
       "        vertical-align: top;\n",
       "    }\n",
       "\n",
       "    .dataframe thead th {\n",
       "        text-align: right;\n",
       "    }\n",
       "</style>\n",
       "<table border=\"1\" class=\"dataframe\">\n",
       "  <thead>\n",
       "    <tr style=\"text-align: right;\">\n",
       "      <th></th>\n",
       "      <th>0</th>\n",
       "    </tr>\n",
       "  </thead>\n",
       "  <tbody>\n",
       "    <tr>\n",
       "      <th>Gender</th>\n",
       "      <td>0.88968</td>\n",
       "    </tr>\n",
       "    <tr>\n",
       "      <th>Type</th>\n",
       "      <td>0.88968</td>\n",
       "    </tr>\n",
       "  </tbody>\n",
       "</table>\n",
       "</div>"
      ],
      "text/plain": [
       "              0\n",
       "Gender  0.88968\n",
       "Type    0.88968"
      ]
     },
     "execution_count": 175,
     "metadata": {},
     "output_type": "execute_result"
    }
   ],
   "source": [
    "df_nul=pd.DataFrame((df.isnull().sum() * 100) / df.shape[0])\n",
    "df_nul[df_nul[0]>0] #menor que 1% asique me lo cargo"
   ]
  },
  {
   "cell_type": "code",
   "execution_count": 176,
   "id": "2e93b707",
   "metadata": {},
   "outputs": [],
   "source": [
    "df = df.dropna(subset=[\"Gender\"])"
   ]
  },
  {
   "cell_type": "code",
   "execution_count": 177,
   "id": "8b8c7502",
   "metadata": {},
   "outputs": [],
   "source": [
    "df=df.sort_values(by = [\"Streams\"], ascending=False).reset_index(drop=True)"
   ]
  },
  {
   "cell_type": "code",
   "execution_count": 178,
   "id": "306f22b9",
   "metadata": {},
   "outputs": [
    {
     "data": {
      "text/html": [
       "<div>\n",
       "<style scoped>\n",
       "    .dataframe tbody tr th:only-of-type {\n",
       "        vertical-align: middle;\n",
       "    }\n",
       "\n",
       "    .dataframe tbody tr th {\n",
       "        vertical-align: top;\n",
       "    }\n",
       "\n",
       "    .dataframe thead th {\n",
       "        text-align: right;\n",
       "    }\n",
       "</style>\n",
       "<table border=\"1\" class=\"dataframe\">\n",
       "  <thead>\n",
       "    <tr style=\"text-align: right;\">\n",
       "      <th></th>\n",
       "      <th>Song_Name</th>\n",
       "      <th>Genre</th>\n",
       "      <th>Subgenre</th>\n",
       "      <th>Subgenre_2</th>\n",
       "      <th>Release_Date</th>\n",
       "      <th>Song_Decade</th>\n",
       "      <th>Streams</th>\n",
       "      <th>Week_Of_Highest_Charting</th>\n",
       "      <th>Month_Highest_Charting</th>\n",
       "      <th>Season_Highest_Charting</th>\n",
       "      <th>Year_Highest_Charting</th>\n",
       "      <th>Popularity</th>\n",
       "      <th>Danceability</th>\n",
       "      <th>Energy</th>\n",
       "      <th>Loudness</th>\n",
       "      <th>Speechiness</th>\n",
       "      <th>Acousticness</th>\n",
       "      <th>Liveness</th>\n",
       "      <th>Tempo</th>\n",
       "      <th>Duration_(Ms)</th>\n",
       "      <th>Valence</th>\n",
       "      <th>Chord</th>\n",
       "      <th>Artist</th>\n",
       "      <th>Artist_Followers</th>\n",
       "      <th>Gender</th>\n",
       "      <th>Artist_Generation</th>\n",
       "      <th>Type</th>\n",
       "      <th>Country</th>\n",
       "    </tr>\n",
       "  </thead>\n",
       "  <tbody>\n",
       "    <tr>\n",
       "      <th>0</th>\n",
       "      <td>UGH!</td>\n",
       "      <td>pop</td>\n",
       "      <td>k-pop</td>\n",
       "      <td>k-pop boy group</td>\n",
       "      <td>2020-02-21</td>\n",
       "      <td>2020s</td>\n",
       "      <td>9,991,177</td>\n",
       "      <td>2020-02-21</td>\n",
       "      <td>February</td>\n",
       "      <td>Winter</td>\n",
       "      <td>2020</td>\n",
       "      <td>72.0</td>\n",
       "      <td>0.720</td>\n",
       "      <td>0.824</td>\n",
       "      <td>-5.086</td>\n",
       "      <td>0.1280</td>\n",
       "      <td>0.0394</td>\n",
       "      <td>0.0509</td>\n",
       "      <td>165.998</td>\n",
       "      <td>225012.0</td>\n",
       "      <td>0.333</td>\n",
       "      <td>A#/Bb</td>\n",
       "      <td>BTS</td>\n",
       "      <td>37151476</td>\n",
       "      <td>mixed</td>\n",
       "      <td>Generation Z</td>\n",
       "      <td>group</td>\n",
       "      <td>KR</td>\n",
       "    </tr>\n",
       "    <tr>\n",
       "      <th>1</th>\n",
       "      <td>Bigger Than Life</td>\n",
       "      <td>rap</td>\n",
       "      <td>melodic rap</td>\n",
       "      <td>philly rap</td>\n",
       "      <td>2020-03-06</td>\n",
       "      <td>2020s</td>\n",
       "      <td>9,974,143</td>\n",
       "      <td>2020-03-06</td>\n",
       "      <td>March</td>\n",
       "      <td>Spring</td>\n",
       "      <td>2020</td>\n",
       "      <td>62.0</td>\n",
       "      <td>0.776</td>\n",
       "      <td>0.752</td>\n",
       "      <td>-4.711</td>\n",
       "      <td>0.1930</td>\n",
       "      <td>0.3250</td>\n",
       "      <td>0.3300</td>\n",
       "      <td>140.013</td>\n",
       "      <td>192705.0</td>\n",
       "      <td>0.716</td>\n",
       "      <td>G#/Ab</td>\n",
       "      <td>Lil Uzi Vert</td>\n",
       "      <td>11821805</td>\n",
       "      <td>male</td>\n",
       "      <td>Millennial</td>\n",
       "      <td>person</td>\n",
       "      <td>US</td>\n",
       "    </tr>\n",
       "    <tr>\n",
       "      <th>2</th>\n",
       "      <td>Time Flies</td>\n",
       "      <td>hip hop</td>\n",
       "      <td>canadian hip hop</td>\n",
       "      <td>canadian pop</td>\n",
       "      <td>2020-05-01</td>\n",
       "      <td>2020s</td>\n",
       "      <td>9,904,749</td>\n",
       "      <td>2020-05-01</td>\n",
       "      <td>May</td>\n",
       "      <td>Spring</td>\n",
       "      <td>2020</td>\n",
       "      <td>71.0</td>\n",
       "      <td>0.864</td>\n",
       "      <td>0.477</td>\n",
       "      <td>-5.786</td>\n",
       "      <td>0.2240</td>\n",
       "      <td>0.2010</td>\n",
       "      <td>0.1820</td>\n",
       "      <td>86.460</td>\n",
       "      <td>192932.0</td>\n",
       "      <td>0.500</td>\n",
       "      <td>A#/Bb</td>\n",
       "      <td>Drake</td>\n",
       "      <td>56327031</td>\n",
       "      <td>male</td>\n",
       "      <td>Millennial</td>\n",
       "      <td>person</td>\n",
       "      <td>CA</td>\n",
       "    </tr>\n",
       "    <tr>\n",
       "      <th>3</th>\n",
       "      <td>HOT WIND BLOWS (feat. Lil Wayne)</td>\n",
       "      <td>hip hop</td>\n",
       "      <td>hip hop</td>\n",
       "      <td>rap</td>\n",
       "      <td>2021-06-25</td>\n",
       "      <td>2020s</td>\n",
       "      <td>9,889,197</td>\n",
       "      <td>2021-06-25</td>\n",
       "      <td>June</td>\n",
       "      <td>Summer</td>\n",
       "      <td>2021</td>\n",
       "      <td>77.0</td>\n",
       "      <td>0.371</td>\n",
       "      <td>0.750</td>\n",
       "      <td>-5.382</td>\n",
       "      <td>0.4020</td>\n",
       "      <td>0.6010</td>\n",
       "      <td>0.4820</td>\n",
       "      <td>173.456</td>\n",
       "      <td>155293.0</td>\n",
       "      <td>0.729</td>\n",
       "      <td>G</td>\n",
       "      <td>Tyler, The Creator</td>\n",
       "      <td>6777818</td>\n",
       "      <td>male</td>\n",
       "      <td>Millennial</td>\n",
       "      <td>person</td>\n",
       "      <td>US</td>\n",
       "    </tr>\n",
       "    <tr>\n",
       "      <th>4</th>\n",
       "      <td>Wonderful Christmastime - Edited Version / Rem...</td>\n",
       "      <td>rock</td>\n",
       "      <td>album rock</td>\n",
       "      <td>art rock</td>\n",
       "      <td>1980-05-16</td>\n",
       "      <td>1980s</td>\n",
       "      <td>9,882,989</td>\n",
       "      <td>2020-12-18</td>\n",
       "      <td>December</td>\n",
       "      <td>Winter</td>\n",
       "      <td>2020</td>\n",
       "      <td>51.0</td>\n",
       "      <td>0.774</td>\n",
       "      <td>0.511</td>\n",
       "      <td>-8.914</td>\n",
       "      <td>0.0319</td>\n",
       "      <td>0.3220</td>\n",
       "      <td>0.0672</td>\n",
       "      <td>94.736</td>\n",
       "      <td>227653.0</td>\n",
       "      <td>0.771</td>\n",
       "      <td>B</td>\n",
       "      <td>Paul McCartney</td>\n",
       "      <td>3609658</td>\n",
       "      <td>male</td>\n",
       "      <td>Baby Boomer</td>\n",
       "      <td>person</td>\n",
       "      <td>GB</td>\n",
       "    </tr>\n",
       "  </tbody>\n",
       "</table>\n",
       "</div>"
      ],
      "text/plain": [
       "                                           Song_Name    Genre  \\\n",
       "0                                               UGH!      pop   \n",
       "1                                   Bigger Than Life      rap   \n",
       "2                                         Time Flies  hip hop   \n",
       "3                   HOT WIND BLOWS (feat. Lil Wayne)  hip hop   \n",
       "4  Wonderful Christmastime - Edited Version / Rem...     rock   \n",
       "\n",
       "           Subgenre       Subgenre_2 Release_Date Song_Decade    Streams  \\\n",
       "0             k-pop  k-pop boy group   2020-02-21       2020s  9,991,177   \n",
       "1       melodic rap       philly rap   2020-03-06       2020s  9,974,143   \n",
       "2  canadian hip hop     canadian pop   2020-05-01       2020s  9,904,749   \n",
       "3           hip hop              rap   2021-06-25       2020s  9,889,197   \n",
       "4        album rock         art rock   1980-05-16       1980s  9,882,989   \n",
       "\n",
       "  Week_Of_Highest_Charting Month_Highest_Charting Season_Highest_Charting  \\\n",
       "0               2020-02-21               February                  Winter   \n",
       "1               2020-03-06                  March                  Spring   \n",
       "2               2020-05-01                    May                  Spring   \n",
       "3               2021-06-25                   June                  Summer   \n",
       "4               2020-12-18               December                  Winter   \n",
       "\n",
       "   Year_Highest_Charting  Popularity  Danceability  Energy  Loudness  \\\n",
       "0                   2020        72.0         0.720   0.824    -5.086   \n",
       "1                   2020        62.0         0.776   0.752    -4.711   \n",
       "2                   2020        71.0         0.864   0.477    -5.786   \n",
       "3                   2021        77.0         0.371   0.750    -5.382   \n",
       "4                   2020        51.0         0.774   0.511    -8.914   \n",
       "\n",
       "   Speechiness  Acousticness  Liveness    Tempo  Duration_(Ms)  Valence  \\\n",
       "0       0.1280        0.0394    0.0509  165.998       225012.0    0.333   \n",
       "1       0.1930        0.3250    0.3300  140.013       192705.0    0.716   \n",
       "2       0.2240        0.2010    0.1820   86.460       192932.0    0.500   \n",
       "3       0.4020        0.6010    0.4820  173.456       155293.0    0.729   \n",
       "4       0.0319        0.3220    0.0672   94.736       227653.0    0.771   \n",
       "\n",
       "   Chord              Artist Artist_Followers Gender Artist_Generation  \\\n",
       "0  A#/Bb                 BTS         37151476  mixed      Generation Z   \n",
       "1  G#/Ab        Lil Uzi Vert         11821805   male        Millennial   \n",
       "2  A#/Bb               Drake         56327031   male        Millennial   \n",
       "3      G  Tyler, The Creator          6777818   male        Millennial   \n",
       "4      B      Paul McCartney          3609658   male       Baby Boomer   \n",
       "\n",
       "     Type Country  \n",
       "0   group      KR  \n",
       "1  person      US  \n",
       "2  person      CA  \n",
       "3  person      US  \n",
       "4  person      GB  "
      ]
     },
     "execution_count": 178,
     "metadata": {},
     "output_type": "execute_result"
    }
   ],
   "source": [
    "df.head()"
   ]
  },
  {
   "cell_type": "code",
   "execution_count": 179,
   "id": "e6fe300a",
   "metadata": {},
   "outputs": [],
   "source": [
    "df.to_csv(\"../data/df_spotify_limpio.csv\")"
   ]
  },
  {
   "cell_type": "code",
   "execution_count": 37,
   "id": "9aa45b2d",
   "metadata": {},
   "outputs": [
    {
     "data": {
      "text/plain": [
       "(1114, 28)"
      ]
     },
     "execution_count": 37,
     "metadata": {},
     "output_type": "execute_result"
    }
   ],
   "source": [
    "df=sp.abrir_csv(\"../data/df_spotify_limpio.csv\")\n",
    "df.shape"
   ]
  },
  {
   "cell_type": "code",
   "execution_count": 180,
   "id": "1969d237",
   "metadata": {},
   "outputs": [
    {
     "data": {
      "text/html": [
       "<div>\n",
       "<style scoped>\n",
       "    .dataframe tbody tr th:only-of-type {\n",
       "        vertical-align: middle;\n",
       "    }\n",
       "\n",
       "    .dataframe tbody tr th {\n",
       "        vertical-align: top;\n",
       "    }\n",
       "\n",
       "    .dataframe thead th {\n",
       "        text-align: right;\n",
       "    }\n",
       "</style>\n",
       "<table border=\"1\" class=\"dataframe\">\n",
       "  <thead>\n",
       "    <tr style=\"text-align: right;\">\n",
       "      <th></th>\n",
       "      <th>count</th>\n",
       "      <th>unique</th>\n",
       "      <th>top</th>\n",
       "      <th>freq</th>\n",
       "    </tr>\n",
       "  </thead>\n",
       "  <tbody>\n",
       "    <tr>\n",
       "      <th>Song_Name</th>\n",
       "      <td>1114</td>\n",
       "      <td>1114</td>\n",
       "      <td>UGH!</td>\n",
       "      <td>1</td>\n",
       "    </tr>\n",
       "    <tr>\n",
       "      <th>Genre</th>\n",
       "      <td>1114</td>\n",
       "      <td>13</td>\n",
       "      <td>pop</td>\n",
       "      <td>259</td>\n",
       "    </tr>\n",
       "    <tr>\n",
       "      <th>Subgenre</th>\n",
       "      <td>1114</td>\n",
       "      <td>120</td>\n",
       "      <td>dance pop</td>\n",
       "      <td>193</td>\n",
       "    </tr>\n",
       "    <tr>\n",
       "      <th>Subgenre_2</th>\n",
       "      <td>1114</td>\n",
       "      <td>106</td>\n",
       "      <td>pop</td>\n",
       "      <td>200</td>\n",
       "    </tr>\n",
       "    <tr>\n",
       "      <th>Release_Date</th>\n",
       "      <td>1114</td>\n",
       "      <td>377</td>\n",
       "      <td>2020-01-17</td>\n",
       "      <td>33</td>\n",
       "    </tr>\n",
       "    <tr>\n",
       "      <th>Song_Decade</th>\n",
       "      <td>1114</td>\n",
       "      <td>8</td>\n",
       "      <td>2020s</td>\n",
       "      <td>835</td>\n",
       "    </tr>\n",
       "    <tr>\n",
       "      <th>Streams</th>\n",
       "      <td>1114</td>\n",
       "      <td>1114</td>\n",
       "      <td>9,991,177</td>\n",
       "      <td>1</td>\n",
       "    </tr>\n",
       "    <tr>\n",
       "      <th>Week_Of_Highest_Charting</th>\n",
       "      <td>1114</td>\n",
       "      <td>83</td>\n",
       "      <td>2020-12-18</td>\n",
       "      <td>60</td>\n",
       "    </tr>\n",
       "    <tr>\n",
       "      <th>Month_Highest_Charting</th>\n",
       "      <td>1114</td>\n",
       "      <td>12</td>\n",
       "      <td>January</td>\n",
       "      <td>153</td>\n",
       "    </tr>\n",
       "    <tr>\n",
       "      <th>Season_Highest_Charting</th>\n",
       "      <td>1114</td>\n",
       "      <td>4</td>\n",
       "      <td>Winter</td>\n",
       "      <td>406</td>\n",
       "    </tr>\n",
       "    <tr>\n",
       "      <th>Chord</th>\n",
       "      <td>1114</td>\n",
       "      <td>12</td>\n",
       "      <td>C#/Db</td>\n",
       "      <td>157</td>\n",
       "    </tr>\n",
       "    <tr>\n",
       "      <th>Artist</th>\n",
       "      <td>1114</td>\n",
       "      <td>320</td>\n",
       "      <td>Taylor Swift</td>\n",
       "      <td>52</td>\n",
       "    </tr>\n",
       "    <tr>\n",
       "      <th>Artist_Followers</th>\n",
       "      <td>1114</td>\n",
       "      <td>391</td>\n",
       "      <td>42227614</td>\n",
       "      <td>52</td>\n",
       "    </tr>\n",
       "    <tr>\n",
       "      <th>Gender</th>\n",
       "      <td>1114</td>\n",
       "      <td>3</td>\n",
       "      <td>male</td>\n",
       "      <td>694</td>\n",
       "    </tr>\n",
       "    <tr>\n",
       "      <th>Artist_Generation</th>\n",
       "      <td>1114</td>\n",
       "      <td>5</td>\n",
       "      <td>Millennial</td>\n",
       "      <td>605</td>\n",
       "    </tr>\n",
       "    <tr>\n",
       "      <th>Type</th>\n",
       "      <td>1114</td>\n",
       "      <td>2</td>\n",
       "      <td>person</td>\n",
       "      <td>954</td>\n",
       "    </tr>\n",
       "    <tr>\n",
       "      <th>Country</th>\n",
       "      <td>1114</td>\n",
       "      <td>28</td>\n",
       "      <td>US</td>\n",
       "      <td>690</td>\n",
       "    </tr>\n",
       "  </tbody>\n",
       "</table>\n",
       "</div>"
      ],
      "text/plain": [
       "                         count unique           top freq\n",
       "Song_Name                 1114   1114          UGH!    1\n",
       "Genre                     1114     13           pop  259\n",
       "Subgenre                  1114    120     dance pop  193\n",
       "Subgenre_2                1114    106           pop  200\n",
       "Release_Date              1114    377    2020-01-17   33\n",
       "Song_Decade               1114      8         2020s  835\n",
       "Streams                   1114   1114     9,991,177    1\n",
       "Week_Of_Highest_Charting  1114     83    2020-12-18   60\n",
       "Month_Highest_Charting    1114     12       January  153\n",
       "Season_Highest_Charting   1114      4        Winter  406\n",
       "Chord                     1114     12         C#/Db  157\n",
       "Artist                    1114    320  Taylor Swift   52\n",
       "Artist_Followers          1114    391      42227614   52\n",
       "Gender                    1114      3          male  694\n",
       "Artist_Generation         1114      5    Millennial  605\n",
       "Type                      1114      2        person  954\n",
       "Country                   1114     28            US  690"
      ]
     },
     "execution_count": 180,
     "metadata": {},
     "output_type": "execute_result"
    }
   ],
   "source": [
    "df.describe(include = \"object\").T"
   ]
  },
  {
   "cell_type": "code",
   "execution_count": 181,
   "id": "944b4dff",
   "metadata": {},
   "outputs": [
    {
     "data": {
      "text/html": [
       "<div>\n",
       "<style scoped>\n",
       "    .dataframe tbody tr th:only-of-type {\n",
       "        vertical-align: middle;\n",
       "    }\n",
       "\n",
       "    .dataframe tbody tr th {\n",
       "        vertical-align: top;\n",
       "    }\n",
       "\n",
       "    .dataframe thead th {\n",
       "        text-align: right;\n",
       "    }\n",
       "</style>\n",
       "<table border=\"1\" class=\"dataframe\">\n",
       "  <thead>\n",
       "    <tr style=\"text-align: right;\">\n",
       "      <th></th>\n",
       "      <th>count</th>\n",
       "      <th>mean</th>\n",
       "      <th>std</th>\n",
       "      <th>min</th>\n",
       "      <th>25%</th>\n",
       "      <th>50%</th>\n",
       "      <th>75%</th>\n",
       "      <th>max</th>\n",
       "    </tr>\n",
       "  </thead>\n",
       "  <tbody>\n",
       "    <tr>\n",
       "      <th>Year_Highest_Charting</th>\n",
       "      <td>1114.0</td>\n",
       "      <td>2020.211849</td>\n",
       "      <td>0.512208</td>\n",
       "      <td>2019.000000</td>\n",
       "      <td>2020.000000</td>\n",
       "      <td>2020.00000</td>\n",
       "      <td>2021.00000</td>\n",
       "      <td>2021.000</td>\n",
       "    </tr>\n",
       "    <tr>\n",
       "      <th>Popularity</th>\n",
       "      <td>1114.0</td>\n",
       "      <td>69.477558</td>\n",
       "      <td>15.713173</td>\n",
       "      <td>0.000000</td>\n",
       "      <td>64.000000</td>\n",
       "      <td>72.00000</td>\n",
       "      <td>79.00000</td>\n",
       "      <td>100.000</td>\n",
       "    </tr>\n",
       "    <tr>\n",
       "      <th>Danceability</th>\n",
       "      <td>1114.0</td>\n",
       "      <td>0.673791</td>\n",
       "      <td>0.144790</td>\n",
       "      <td>0.150000</td>\n",
       "      <td>0.584250</td>\n",
       "      <td>0.68500</td>\n",
       "      <td>0.78100</td>\n",
       "      <td>0.964</td>\n",
       "    </tr>\n",
       "    <tr>\n",
       "      <th>Energy</th>\n",
       "      <td>1114.0</td>\n",
       "      <td>0.620539</td>\n",
       "      <td>0.164983</td>\n",
       "      <td>0.054000</td>\n",
       "      <td>0.518250</td>\n",
       "      <td>0.63100</td>\n",
       "      <td>0.74075</td>\n",
       "      <td>0.966</td>\n",
       "    </tr>\n",
       "    <tr>\n",
       "      <th>Loudness</th>\n",
       "      <td>1114.0</td>\n",
       "      <td>-6.554244</td>\n",
       "      <td>2.543737</td>\n",
       "      <td>-25.166000</td>\n",
       "      <td>-7.660000</td>\n",
       "      <td>-6.18850</td>\n",
       "      <td>-4.90250</td>\n",
       "      <td>1.509</td>\n",
       "    </tr>\n",
       "    <tr>\n",
       "      <th>Speechiness</th>\n",
       "      <td>1114.0</td>\n",
       "      <td>0.121334</td>\n",
       "      <td>0.113938</td>\n",
       "      <td>0.023200</td>\n",
       "      <td>0.042625</td>\n",
       "      <td>0.07055</td>\n",
       "      <td>0.16000</td>\n",
       "      <td>0.884</td>\n",
       "    </tr>\n",
       "    <tr>\n",
       "      <th>Acousticness</th>\n",
       "      <td>1114.0</td>\n",
       "      <td>0.255119</td>\n",
       "      <td>0.265196</td>\n",
       "      <td>0.000025</td>\n",
       "      <td>0.046600</td>\n",
       "      <td>0.15200</td>\n",
       "      <td>0.39500</td>\n",
       "      <td>0.991</td>\n",
       "    </tr>\n",
       "    <tr>\n",
       "      <th>Liveness</th>\n",
       "      <td>1114.0</td>\n",
       "      <td>0.187071</td>\n",
       "      <td>0.152411</td>\n",
       "      <td>0.031100</td>\n",
       "      <td>0.097525</td>\n",
       "      <td>0.12400</td>\n",
       "      <td>0.21900</td>\n",
       "      <td>0.962</td>\n",
       "    </tr>\n",
       "    <tr>\n",
       "      <th>Tempo</th>\n",
       "      <td>1114.0</td>\n",
       "      <td>122.074383</td>\n",
       "      <td>29.154174</td>\n",
       "      <td>64.062000</td>\n",
       "      <td>97.695750</td>\n",
       "      <td>121.77700</td>\n",
       "      <td>142.06400</td>\n",
       "      <td>205.272</td>\n",
       "    </tr>\n",
       "    <tr>\n",
       "      <th>Duration_(Ms)</th>\n",
       "      <td>1114.0</td>\n",
       "      <td>197328.744165</td>\n",
       "      <td>47485.244026</td>\n",
       "      <td>30133.000000</td>\n",
       "      <td>169250.250000</td>\n",
       "      <td>193337.00000</td>\n",
       "      <td>218618.00000</td>\n",
       "      <td>588139.000</td>\n",
       "    </tr>\n",
       "    <tr>\n",
       "      <th>Valence</th>\n",
       "      <td>1114.0</td>\n",
       "      <td>0.485782</td>\n",
       "      <td>0.228595</td>\n",
       "      <td>0.032000</td>\n",
       "      <td>0.316000</td>\n",
       "      <td>0.47500</td>\n",
       "      <td>0.66075</td>\n",
       "      <td>0.979</td>\n",
       "    </tr>\n",
       "  </tbody>\n",
       "</table>\n",
       "</div>"
      ],
      "text/plain": [
       "                        count           mean           std           min  \\\n",
       "Year_Highest_Charting  1114.0    2020.211849      0.512208   2019.000000   \n",
       "Popularity             1114.0      69.477558     15.713173      0.000000   \n",
       "Danceability           1114.0       0.673791      0.144790      0.150000   \n",
       "Energy                 1114.0       0.620539      0.164983      0.054000   \n",
       "Loudness               1114.0      -6.554244      2.543737    -25.166000   \n",
       "Speechiness            1114.0       0.121334      0.113938      0.023200   \n",
       "Acousticness           1114.0       0.255119      0.265196      0.000025   \n",
       "Liveness               1114.0       0.187071      0.152411      0.031100   \n",
       "Tempo                  1114.0     122.074383     29.154174     64.062000   \n",
       "Duration_(Ms)          1114.0  197328.744165  47485.244026  30133.000000   \n",
       "Valence                1114.0       0.485782      0.228595      0.032000   \n",
       "\n",
       "                                 25%           50%           75%         max  \n",
       "Year_Highest_Charting    2020.000000    2020.00000    2021.00000    2021.000  \n",
       "Popularity                 64.000000      72.00000      79.00000     100.000  \n",
       "Danceability                0.584250       0.68500       0.78100       0.964  \n",
       "Energy                      0.518250       0.63100       0.74075       0.966  \n",
       "Loudness                   -7.660000      -6.18850      -4.90250       1.509  \n",
       "Speechiness                 0.042625       0.07055       0.16000       0.884  \n",
       "Acousticness                0.046600       0.15200       0.39500       0.991  \n",
       "Liveness                    0.097525       0.12400       0.21900       0.962  \n",
       "Tempo                      97.695750     121.77700     142.06400     205.272  \n",
       "Duration_(Ms)          169250.250000  193337.00000  218618.00000  588139.000  \n",
       "Valence                     0.316000       0.47500       0.66075       0.979  "
      ]
     },
     "execution_count": 181,
     "metadata": {},
     "output_type": "execute_result"
    }
   ],
   "source": [
    "df.describe().T "
   ]
  }
 ],
 "metadata": {
  "kernelspec": {
   "display_name": "Python 3 (ipykernel)",
   "language": "python",
   "name": "python3"
  },
  "language_info": {
   "codemirror_mode": {
    "name": "ipython",
    "version": 3
   },
   "file_extension": ".py",
   "mimetype": "text/x-python",
   "name": "python",
   "nbconvert_exporter": "python",
   "pygments_lexer": "ipython3",
   "version": "3.9.12"
  }
 },
 "nbformat": 4,
 "nbformat_minor": 5
}
